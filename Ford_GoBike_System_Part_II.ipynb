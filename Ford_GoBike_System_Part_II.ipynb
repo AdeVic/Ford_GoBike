{
 "cells": [
  {
   "cell_type": "markdown",
   "metadata": {
    "slideshow": {
     "slide_type": "slide"
    }
   },
   "source": [
    "# Part I - (Ford GoBike System Data Exploration)\n",
    "## by (Adelami Niyi Victor)"
   ]
  },
  {
   "cell_type": "markdown",
   "metadata": {
    "slideshow": {
     "slide_type": "slide"
    }
   },
   "source": [
    "## Introduction\n",
    "> This data set includes information about individual rides made in a bike-sharing system covering the greater San Francisco Bay area as at february 2019. It has a total of 183412 rows and 16 columns. it contains the following variables:\n",
    "\n"
   ]
  },
  {
   "cell_type": "markdown",
   "metadata": {
    "slideshow": {
     "slide_type": "subslide"
    }
   },
   "source": [
    "    1.  duration_sec: How long was the ride in seconds \n",
    "    2.  start_time: When the ride started\n",
    "    3.  end_time: When the ride ended\n",
    "    4.  start_station_id: The unique id for the station where the bike was picked for a ride\n",
    "    5.  start_station_name: The name of the station where the bike was picked for a ride\n",
    "    6.  start_station_latitude: The latitude of the station where the bike was picked for a ride\n",
    "    7.  start_station_longitude: The longitude of the station where the bike was picked for a ride\n",
    "    8.  end_station_id: The unique id for the station where the bike was dropped (where the ride ended)\n",
    "    9.  end_station_name: The name of the station where the bike was dropped (where the ride ended)\n",
    "    10. end_station_latitude: The latitude of the station where the bike was dropped (where the ride ended)\n",
    "    11. end_station_longitude: The longitude of the station where the bike was dropped (where the ride ended)\n",
    "    12. bike_id: The unique id of each bike\n",
    "    13. user_type: The categories of people that use the buke\n",
    "    14. member_birth_year: The year of birth for registered members/users\n",
    "    15. member_gender: The gender of registered members/users\n",
    "    16. bike_share_for_all_trip: Indicates whether the bike is used for alt trips or for last mile\n",
    "    "
   ]
  },
  {
   "cell_type": "markdown",
   "metadata": {
    "slideshow": {
     "slide_type": "skip"
    }
   },
   "source": [
    "## Preliminary Wrangling"
   ]
  },
  {
   "cell_type": "code",
   "execution_count": 1,
   "metadata": {
    "slideshow": {
     "slide_type": "skip"
    }
   },
   "outputs": [],
   "source": [
    "# import all packages and set plots to be embedded inline\n",
    "import numpy as np\n",
    "import pandas as pd\n",
    "import matplotlib.pyplot as plt\n",
    "import seaborn as sb\n",
    "\n",
    "%matplotlib inline"
   ]
  },
  {
   "cell_type": "markdown",
   "metadata": {
    "slideshow": {
     "slide_type": "skip"
    }
   },
   "source": [
    "> Load in your dataset and describe its properties through the questions below. Try and motivate your exploration goals through this section.\n"
   ]
  },
  {
   "cell_type": "code",
   "execution_count": 2,
   "metadata": {
    "slideshow": {
     "slide_type": "skip"
    }
   },
   "outputs": [],
   "source": [
    "fordGo_df = pd.read_csv('201902_fordgobike_tripdata.csv')"
   ]
  },
  {
   "cell_type": "markdown",
   "metadata": {
    "slideshow": {
     "slide_type": "skip"
    }
   },
   "source": [
    "### Assessing dataset"
   ]
  },
  {
   "cell_type": "code",
   "execution_count": 3,
   "metadata": {
    "slideshow": {
     "slide_type": "skip"
    }
   },
   "outputs": [
    {
     "name": "stdout",
     "output_type": "stream",
     "text": [
      "The FordGod dataset has 183412 rows and 16 columns\n"
     ]
    }
   ],
   "source": [
    "# Checking the number of rows and columns\n",
    "print(\"The FordGod dataset has {} rows and {} columns\".format(fordGo_df.shape[0], fordGo_df.shape[1]))"
   ]
  },
  {
   "cell_type": "code",
   "execution_count": 4,
   "metadata": {
    "slideshow": {
     "slide_type": "skip"
    }
   },
   "outputs": [
    {
     "data": {
      "text/plain": [
       "Index(['duration_sec', 'start_time', 'end_time', 'start_station_id',\n",
       "       'start_station_name', 'start_station_latitude',\n",
       "       'start_station_longitude', 'end_station_id', 'end_station_name',\n",
       "       'end_station_latitude', 'end_station_longitude', 'bike_id', 'user_type',\n",
       "       'member_birth_year', 'member_gender', 'bike_share_for_all_trip'],\n",
       "      dtype='object')"
      ]
     },
     "execution_count": 4,
     "metadata": {},
     "output_type": "execute_result"
    }
   ],
   "source": [
    "#Checking the variables in the dataset\n",
    "fordGo_df.columns"
   ]
  },
  {
   "cell_type": "code",
   "execution_count": 5,
   "metadata": {
    "scrolled": false,
    "slideshow": {
     "slide_type": "skip"
    }
   },
   "outputs": [
    {
     "data": {
      "text/html": [
       "<div>\n",
       "<style scoped>\n",
       "    .dataframe tbody tr th:only-of-type {\n",
       "        vertical-align: middle;\n",
       "    }\n",
       "\n",
       "    .dataframe tbody tr th {\n",
       "        vertical-align: top;\n",
       "    }\n",
       "\n",
       "    .dataframe thead th {\n",
       "        text-align: right;\n",
       "    }\n",
       "</style>\n",
       "<table border=\"1\" class=\"dataframe\">\n",
       "  <thead>\n",
       "    <tr style=\"text-align: right;\">\n",
       "      <th></th>\n",
       "      <th>duration_sec</th>\n",
       "      <th>start_time</th>\n",
       "      <th>end_time</th>\n",
       "      <th>start_station_id</th>\n",
       "      <th>start_station_name</th>\n",
       "      <th>start_station_latitude</th>\n",
       "      <th>start_station_longitude</th>\n",
       "      <th>end_station_id</th>\n",
       "      <th>end_station_name</th>\n",
       "      <th>end_station_latitude</th>\n",
       "      <th>end_station_longitude</th>\n",
       "      <th>bike_id</th>\n",
       "      <th>user_type</th>\n",
       "      <th>member_birth_year</th>\n",
       "      <th>member_gender</th>\n",
       "      <th>bike_share_for_all_trip</th>\n",
       "    </tr>\n",
       "  </thead>\n",
       "  <tbody>\n",
       "    <tr>\n",
       "      <th>105487</th>\n",
       "      <td>1036</td>\n",
       "      <td>52:39.4</td>\n",
       "      <td>09:56.3</td>\n",
       "      <td>126.0</td>\n",
       "      <td>Esprit Park</td>\n",
       "      <td>37.761634</td>\n",
       "      <td>-122.390648</td>\n",
       "      <td>15.0</td>\n",
       "      <td>San Francisco Ferry Building (Harry Bridges Pl...</td>\n",
       "      <td>37.795392</td>\n",
       "      <td>-122.394203</td>\n",
       "      <td>2820</td>\n",
       "      <td>Subscriber</td>\n",
       "      <td>1952.0</td>\n",
       "      <td>Male</td>\n",
       "      <td>No</td>\n",
       "    </tr>\n",
       "    <tr>\n",
       "      <th>151998</th>\n",
       "      <td>332</td>\n",
       "      <td>41:02.0</td>\n",
       "      <td>46:34.5</td>\n",
       "      <td>27.0</td>\n",
       "      <td>Beale St at Harrison St</td>\n",
       "      <td>37.788059</td>\n",
       "      <td>-122.391865</td>\n",
       "      <td>30.0</td>\n",
       "      <td>San Francisco Caltrain (Townsend St at 4th St)</td>\n",
       "      <td>37.776598</td>\n",
       "      <td>-122.395282</td>\n",
       "      <td>4977</td>\n",
       "      <td>Subscriber</td>\n",
       "      <td>1966.0</td>\n",
       "      <td>Male</td>\n",
       "      <td>No</td>\n",
       "    </tr>\n",
       "    <tr>\n",
       "      <th>134855</th>\n",
       "      <td>394</td>\n",
       "      <td>41:09.5</td>\n",
       "      <td>47:43.9</td>\n",
       "      <td>26.0</td>\n",
       "      <td>1st St at Folsom St</td>\n",
       "      <td>37.787290</td>\n",
       "      <td>-122.394380</td>\n",
       "      <td>284.0</td>\n",
       "      <td>Yerba Buena Center for the Arts (Howard St at ...</td>\n",
       "      <td>37.784872</td>\n",
       "      <td>-122.400876</td>\n",
       "      <td>5360</td>\n",
       "      <td>Subscriber</td>\n",
       "      <td>1980.0</td>\n",
       "      <td>Female</td>\n",
       "      <td>No</td>\n",
       "    </tr>\n",
       "    <tr>\n",
       "      <th>93690</th>\n",
       "      <td>319</td>\n",
       "      <td>26:37.4</td>\n",
       "      <td>31:56.6</td>\n",
       "      <td>163.0</td>\n",
       "      <td>Lake Merritt BART Station</td>\n",
       "      <td>37.797320</td>\n",
       "      <td>-122.265320</td>\n",
       "      <td>200.0</td>\n",
       "      <td>2nd Ave at E 18th St</td>\n",
       "      <td>37.800214</td>\n",
       "      <td>-122.253810</td>\n",
       "      <td>2983</td>\n",
       "      <td>Subscriber</td>\n",
       "      <td>1971.0</td>\n",
       "      <td>Male</td>\n",
       "      <td>No</td>\n",
       "    </tr>\n",
       "    <tr>\n",
       "      <th>1830</th>\n",
       "      <td>121</td>\n",
       "      <td>45:19.8</td>\n",
       "      <td>47:21.1</td>\n",
       "      <td>195.0</td>\n",
       "      <td>Bay Pl at Vernon St</td>\n",
       "      <td>37.812314</td>\n",
       "      <td>-122.260779</td>\n",
       "      <td>196.0</td>\n",
       "      <td>Grand Ave at Perkins St</td>\n",
       "      <td>37.808894</td>\n",
       "      <td>-122.256460</td>\n",
       "      <td>4916</td>\n",
       "      <td>Subscriber</td>\n",
       "      <td>1989.0</td>\n",
       "      <td>Male</td>\n",
       "      <td>No</td>\n",
       "    </tr>\n",
       "    <tr>\n",
       "      <th>101167</th>\n",
       "      <td>1028</td>\n",
       "      <td>36:19.4</td>\n",
       "      <td>53:28.2</td>\n",
       "      <td>13.0</td>\n",
       "      <td>Commercial St at Montgomery St</td>\n",
       "      <td>37.794231</td>\n",
       "      <td>-122.402923</td>\n",
       "      <td>364.0</td>\n",
       "      <td>China Basin St at 3rd St</td>\n",
       "      <td>37.772000</td>\n",
       "      <td>-122.389970</td>\n",
       "      <td>1846</td>\n",
       "      <td>Subscriber</td>\n",
       "      <td>1986.0</td>\n",
       "      <td>Female</td>\n",
       "      <td>No</td>\n",
       "    </tr>\n",
       "    <tr>\n",
       "      <th>104281</th>\n",
       "      <td>368</td>\n",
       "      <td>46:10.4</td>\n",
       "      <td>52:18.4</td>\n",
       "      <td>345.0</td>\n",
       "      <td>Hubbell St at 16th St</td>\n",
       "      <td>37.766483</td>\n",
       "      <td>-122.398279</td>\n",
       "      <td>124.0</td>\n",
       "      <td>19th St at Florida St</td>\n",
       "      <td>37.760447</td>\n",
       "      <td>-122.410807</td>\n",
       "      <td>4800</td>\n",
       "      <td>Subscriber</td>\n",
       "      <td>1993.0</td>\n",
       "      <td>Female</td>\n",
       "      <td>No</td>\n",
       "    </tr>\n",
       "    <tr>\n",
       "      <th>170380</th>\n",
       "      <td>938</td>\n",
       "      <td>08:36.7</td>\n",
       "      <td>24:15.3</td>\n",
       "      <td>115.0</td>\n",
       "      <td>Jackson Playground</td>\n",
       "      <td>37.765026</td>\n",
       "      <td>-122.398773</td>\n",
       "      <td>21.0</td>\n",
       "      <td>Montgomery St BART Station (Market St at 2nd St)</td>\n",
       "      <td>37.789625</td>\n",
       "      <td>-122.400811</td>\n",
       "      <td>5554</td>\n",
       "      <td>Subscriber</td>\n",
       "      <td>1978.0</td>\n",
       "      <td>Male</td>\n",
       "      <td>No</td>\n",
       "    </tr>\n",
       "    <tr>\n",
       "      <th>132776</th>\n",
       "      <td>606</td>\n",
       "      <td>10:59.7</td>\n",
       "      <td>21:06.6</td>\n",
       "      <td>343.0</td>\n",
       "      <td>Bryant St at 2nd St</td>\n",
       "      <td>37.783172</td>\n",
       "      <td>-122.393572</td>\n",
       "      <td>126.0</td>\n",
       "      <td>Esprit Park</td>\n",
       "      <td>37.761634</td>\n",
       "      <td>-122.390648</td>\n",
       "      <td>4949</td>\n",
       "      <td>Subscriber</td>\n",
       "      <td>1990.0</td>\n",
       "      <td>Male</td>\n",
       "      <td>No</td>\n",
       "    </tr>\n",
       "    <tr>\n",
       "      <th>120321</th>\n",
       "      <td>1260</td>\n",
       "      <td>55:47.3</td>\n",
       "      <td>16:47.5</td>\n",
       "      <td>377.0</td>\n",
       "      <td>Fell St at Stanyan St</td>\n",
       "      <td>37.771917</td>\n",
       "      <td>-122.453705</td>\n",
       "      <td>74.0</td>\n",
       "      <td>Laguna St at Hayes St</td>\n",
       "      <td>37.776435</td>\n",
       "      <td>-122.426244</td>\n",
       "      <td>1902</td>\n",
       "      <td>Customer</td>\n",
       "      <td>1980.0</td>\n",
       "      <td>Male</td>\n",
       "      <td>No</td>\n",
       "    </tr>\n",
       "    <tr>\n",
       "      <th>120477</th>\n",
       "      <td>447</td>\n",
       "      <td>00:29.8</td>\n",
       "      <td>07:57.2</td>\n",
       "      <td>256.0</td>\n",
       "      <td>Hearst Ave at Euclid Ave</td>\n",
       "      <td>37.875112</td>\n",
       "      <td>-122.260553</td>\n",
       "      <td>245.0</td>\n",
       "      <td>Downtown Berkeley BART</td>\n",
       "      <td>37.870139</td>\n",
       "      <td>-122.268422</td>\n",
       "      <td>5211</td>\n",
       "      <td>Subscriber</td>\n",
       "      <td>1987.0</td>\n",
       "      <td>Male</td>\n",
       "      <td>No</td>\n",
       "    </tr>\n",
       "    <tr>\n",
       "      <th>2539</th>\n",
       "      <td>1747</td>\n",
       "      <td>39:10.2</td>\n",
       "      <td>08:17.8</td>\n",
       "      <td>23.0</td>\n",
       "      <td>The Embarcadero at Steuart St</td>\n",
       "      <td>37.791464</td>\n",
       "      <td>-122.391034</td>\n",
       "      <td>81.0</td>\n",
       "      <td>Berry St at 4th St</td>\n",
       "      <td>37.775880</td>\n",
       "      <td>-122.393170</td>\n",
       "      <td>4445</td>\n",
       "      <td>Subscriber</td>\n",
       "      <td>1990.0</td>\n",
       "      <td>Female</td>\n",
       "      <td>No</td>\n",
       "    </tr>\n",
       "    <tr>\n",
       "      <th>42953</th>\n",
       "      <td>788</td>\n",
       "      <td>01:25.7</td>\n",
       "      <td>14:34.2</td>\n",
       "      <td>284.0</td>\n",
       "      <td>Yerba Buena Center for the Arts (Howard St at ...</td>\n",
       "      <td>37.784872</td>\n",
       "      <td>-122.400876</td>\n",
       "      <td>350.0</td>\n",
       "      <td>8th St at Brannan St</td>\n",
       "      <td>37.771431</td>\n",
       "      <td>-122.405787</td>\n",
       "      <td>4834</td>\n",
       "      <td>Subscriber</td>\n",
       "      <td>1993.0</td>\n",
       "      <td>Male</td>\n",
       "      <td>No</td>\n",
       "    </tr>\n",
       "    <tr>\n",
       "      <th>68060</th>\n",
       "      <td>255</td>\n",
       "      <td>48:29.5</td>\n",
       "      <td>52:45.0</td>\n",
       "      <td>157.0</td>\n",
       "      <td>65th St at Hollis St</td>\n",
       "      <td>37.846784</td>\n",
       "      <td>-122.291376</td>\n",
       "      <td>265.0</td>\n",
       "      <td>Ninth St at Parker St</td>\n",
       "      <td>37.858868</td>\n",
       "      <td>-122.291209</td>\n",
       "      <td>6450</td>\n",
       "      <td>Subscriber</td>\n",
       "      <td>1983.0</td>\n",
       "      <td>Male</td>\n",
       "      <td>No</td>\n",
       "    </tr>\n",
       "    <tr>\n",
       "      <th>41554</th>\n",
       "      <td>505</td>\n",
       "      <td>24:24.3</td>\n",
       "      <td>32:50.0</td>\n",
       "      <td>22.0</td>\n",
       "      <td>Howard St at Beale St</td>\n",
       "      <td>37.789756</td>\n",
       "      <td>-122.394643</td>\n",
       "      <td>66.0</td>\n",
       "      <td>3rd St at Townsend St</td>\n",
       "      <td>37.778742</td>\n",
       "      <td>-122.392741</td>\n",
       "      <td>6141</td>\n",
       "      <td>Subscriber</td>\n",
       "      <td>1989.0</td>\n",
       "      <td>Male</td>\n",
       "      <td>No</td>\n",
       "    </tr>\n",
       "    <tr>\n",
       "      <th>73774</th>\n",
       "      <td>1023</td>\n",
       "      <td>28:44.8</td>\n",
       "      <td>45:48.4</td>\n",
       "      <td>90.0</td>\n",
       "      <td>Townsend St at 7th St</td>\n",
       "      <td>37.771058</td>\n",
       "      <td>-122.402717</td>\n",
       "      <td>58.0</td>\n",
       "      <td>Market St at 10th St</td>\n",
       "      <td>37.776619</td>\n",
       "      <td>-122.417385</td>\n",
       "      <td>3658</td>\n",
       "      <td>Subscriber</td>\n",
       "      <td>1978.0</td>\n",
       "      <td>Male</td>\n",
       "      <td>No</td>\n",
       "    </tr>\n",
       "    <tr>\n",
       "      <th>56741</th>\n",
       "      <td>680</td>\n",
       "      <td>45:23.0</td>\n",
       "      <td>56:43.9</td>\n",
       "      <td>9.0</td>\n",
       "      <td>Broadway at Battery St</td>\n",
       "      <td>37.798572</td>\n",
       "      <td>-122.400869</td>\n",
       "      <td>81.0</td>\n",
       "      <td>Berry St at 4th St</td>\n",
       "      <td>37.775880</td>\n",
       "      <td>-122.393170</td>\n",
       "      <td>6644</td>\n",
       "      <td>Subscriber</td>\n",
       "      <td>1981.0</td>\n",
       "      <td>Female</td>\n",
       "      <td>No</td>\n",
       "    </tr>\n",
       "    <tr>\n",
       "      <th>153297</th>\n",
       "      <td>695</td>\n",
       "      <td>59:09.6</td>\n",
       "      <td>10:45.4</td>\n",
       "      <td>104.0</td>\n",
       "      <td>4th St at 16th St</td>\n",
       "      <td>37.767045</td>\n",
       "      <td>-122.390833</td>\n",
       "      <td>3.0</td>\n",
       "      <td>Powell St BART Station (Market St at 4th St)</td>\n",
       "      <td>37.786375</td>\n",
       "      <td>-122.404904</td>\n",
       "      <td>4414</td>\n",
       "      <td>Customer</td>\n",
       "      <td>1993.0</td>\n",
       "      <td>Male</td>\n",
       "      <td>No</td>\n",
       "    </tr>\n",
       "    <tr>\n",
       "      <th>8743</th>\n",
       "      <td>282</td>\n",
       "      <td>10:54.1</td>\n",
       "      <td>15:36.1</td>\n",
       "      <td>249.0</td>\n",
       "      <td>Russell St at College Ave</td>\n",
       "      <td>37.858473</td>\n",
       "      <td>-122.253253</td>\n",
       "      <td>243.0</td>\n",
       "      <td>Bancroft Way at College Ave</td>\n",
       "      <td>37.869360</td>\n",
       "      <td>-122.254337</td>\n",
       "      <td>6397</td>\n",
       "      <td>Subscriber</td>\n",
       "      <td>1990.0</td>\n",
       "      <td>Male</td>\n",
       "      <td>No</td>\n",
       "    </tr>\n",
       "    <tr>\n",
       "      <th>66782</th>\n",
       "      <td>1101</td>\n",
       "      <td>19:19.0</td>\n",
       "      <td>37:40.1</td>\n",
       "      <td>10.0</td>\n",
       "      <td>Washington St at Kearny St</td>\n",
       "      <td>37.795393</td>\n",
       "      <td>-122.404770</td>\n",
       "      <td>126.0</td>\n",
       "      <td>Esprit Park</td>\n",
       "      <td>37.761634</td>\n",
       "      <td>-122.390648</td>\n",
       "      <td>5400</td>\n",
       "      <td>Subscriber</td>\n",
       "      <td>1989.0</td>\n",
       "      <td>Female</td>\n",
       "      <td>No</td>\n",
       "    </tr>\n",
       "    <tr>\n",
       "      <th>83050</th>\n",
       "      <td>1007</td>\n",
       "      <td>12:09.9</td>\n",
       "      <td>28:57.4</td>\n",
       "      <td>23.0</td>\n",
       "      <td>The Embarcadero at Steuart St</td>\n",
       "      <td>37.791464</td>\n",
       "      <td>-122.391034</td>\n",
       "      <td>84.0</td>\n",
       "      <td>Duboce Park</td>\n",
       "      <td>37.769200</td>\n",
       "      <td>-122.433812</td>\n",
       "      <td>5148</td>\n",
       "      <td>Subscriber</td>\n",
       "      <td>1993.0</td>\n",
       "      <td>Male</td>\n",
       "      <td>No</td>\n",
       "    </tr>\n",
       "    <tr>\n",
       "      <th>70616</th>\n",
       "      <td>551</td>\n",
       "      <td>06:53.5</td>\n",
       "      <td>16:05.4</td>\n",
       "      <td>26.0</td>\n",
       "      <td>1st St at Folsom St</td>\n",
       "      <td>37.787290</td>\n",
       "      <td>-122.394380</td>\n",
       "      <td>15.0</td>\n",
       "      <td>San Francisco Ferry Building (Harry Bridges Pl...</td>\n",
       "      <td>37.795392</td>\n",
       "      <td>-122.394203</td>\n",
       "      <td>5853</td>\n",
       "      <td>Subscriber</td>\n",
       "      <td>1976.0</td>\n",
       "      <td>Female</td>\n",
       "      <td>No</td>\n",
       "    </tr>\n",
       "    <tr>\n",
       "      <th>115368</th>\n",
       "      <td>261</td>\n",
       "      <td>47:39.0</td>\n",
       "      <td>52:00.7</td>\n",
       "      <td>14.0</td>\n",
       "      <td>Clay St at Battery St</td>\n",
       "      <td>37.795001</td>\n",
       "      <td>-122.399970</td>\n",
       "      <td>6.0</td>\n",
       "      <td>The Embarcadero at Sansome St</td>\n",
       "      <td>37.804770</td>\n",
       "      <td>-122.403234</td>\n",
       "      <td>4713</td>\n",
       "      <td>Subscriber</td>\n",
       "      <td>1980.0</td>\n",
       "      <td>Male</td>\n",
       "      <td>No</td>\n",
       "    </tr>\n",
       "    <tr>\n",
       "      <th>39585</th>\n",
       "      <td>614</td>\n",
       "      <td>13:22.5</td>\n",
       "      <td>23:37.3</td>\n",
       "      <td>129.0</td>\n",
       "      <td>Harrison St at 20th St</td>\n",
       "      <td>37.758862</td>\n",
       "      <td>-122.412544</td>\n",
       "      <td>89.0</td>\n",
       "      <td>Division St at Potrero Ave</td>\n",
       "      <td>37.769218</td>\n",
       "      <td>-122.407646</td>\n",
       "      <td>5440</td>\n",
       "      <td>Subscriber</td>\n",
       "      <td>1964.0</td>\n",
       "      <td>Other</td>\n",
       "      <td>No</td>\n",
       "    </tr>\n",
       "    <tr>\n",
       "      <th>22294</th>\n",
       "      <td>575</td>\n",
       "      <td>15:25.6</td>\n",
       "      <td>25:00.7</td>\n",
       "      <td>112.0</td>\n",
       "      <td>Harrison St at 17th St</td>\n",
       "      <td>37.763847</td>\n",
       "      <td>-122.413004</td>\n",
       "      <td>67.0</td>\n",
       "      <td>San Francisco Caltrain Station 2  (Townsend St...</td>\n",
       "      <td>37.776639</td>\n",
       "      <td>-122.395526</td>\n",
       "      <td>6365</td>\n",
       "      <td>Subscriber</td>\n",
       "      <td>1991.0</td>\n",
       "      <td>Female</td>\n",
       "      <td>No</td>\n",
       "    </tr>\n",
       "    <tr>\n",
       "      <th>18235</th>\n",
       "      <td>453</td>\n",
       "      <td>02:27.7</td>\n",
       "      <td>10:01.2</td>\n",
       "      <td>67.0</td>\n",
       "      <td>San Francisco Caltrain Station 2  (Townsend St...</td>\n",
       "      <td>37.776639</td>\n",
       "      <td>-122.395526</td>\n",
       "      <td>336.0</td>\n",
       "      <td>Potrero Ave and Mariposa St</td>\n",
       "      <td>37.763281</td>\n",
       "      <td>-122.407377</td>\n",
       "      <td>4659</td>\n",
       "      <td>Subscriber</td>\n",
       "      <td>1994.0</td>\n",
       "      <td>Male</td>\n",
       "      <td>No</td>\n",
       "    </tr>\n",
       "    <tr>\n",
       "      <th>101917</th>\n",
       "      <td>1001</td>\n",
       "      <td>58:42.2</td>\n",
       "      <td>15:24.1</td>\n",
       "      <td>343.0</td>\n",
       "      <td>Bryant St at 2nd St</td>\n",
       "      <td>37.783172</td>\n",
       "      <td>-122.393572</td>\n",
       "      <td>74.0</td>\n",
       "      <td>Laguna St at Hayes St</td>\n",
       "      <td>37.776435</td>\n",
       "      <td>-122.426244</td>\n",
       "      <td>4814</td>\n",
       "      <td>Subscriber</td>\n",
       "      <td>1990.0</td>\n",
       "      <td>Female</td>\n",
       "      <td>No</td>\n",
       "    </tr>\n",
       "    <tr>\n",
       "      <th>146715</th>\n",
       "      <td>391</td>\n",
       "      <td>32:57.3</td>\n",
       "      <td>39:28.5</td>\n",
       "      <td>200.0</td>\n",
       "      <td>2nd Ave at E 18th St</td>\n",
       "      <td>37.800214</td>\n",
       "      <td>-122.253810</td>\n",
       "      <td>163.0</td>\n",
       "      <td>Lake Merritt BART Station</td>\n",
       "      <td>37.797320</td>\n",
       "      <td>-122.265320</td>\n",
       "      <td>3282</td>\n",
       "      <td>Subscriber</td>\n",
       "      <td>1984.0</td>\n",
       "      <td>Female</td>\n",
       "      <td>No</td>\n",
       "    </tr>\n",
       "    <tr>\n",
       "      <th>129246</th>\n",
       "      <td>545</td>\n",
       "      <td>03:59.2</td>\n",
       "      <td>13:04.9</td>\n",
       "      <td>61.0</td>\n",
       "      <td>Howard St at 8th St</td>\n",
       "      <td>37.776513</td>\n",
       "      <td>-122.411306</td>\n",
       "      <td>67.0</td>\n",
       "      <td>San Francisco Caltrain Station 2  (Townsend St...</td>\n",
       "      <td>37.776639</td>\n",
       "      <td>-122.395526</td>\n",
       "      <td>2299</td>\n",
       "      <td>Subscriber</td>\n",
       "      <td>1991.0</td>\n",
       "      <td>Male</td>\n",
       "      <td>No</td>\n",
       "    </tr>\n",
       "    <tr>\n",
       "      <th>73052</th>\n",
       "      <td>835</td>\n",
       "      <td>50:29.4</td>\n",
       "      <td>04:24.5</td>\n",
       "      <td>97.0</td>\n",
       "      <td>14th St at Mission St</td>\n",
       "      <td>37.768265</td>\n",
       "      <td>-122.420110</td>\n",
       "      <td>118.0</td>\n",
       "      <td>Eureka Valley Recreation Center</td>\n",
       "      <td>37.759177</td>\n",
       "      <td>-122.436943</td>\n",
       "      <td>283</td>\n",
       "      <td>Subscriber</td>\n",
       "      <td>1980.0</td>\n",
       "      <td>Female</td>\n",
       "      <td>No</td>\n",
       "    </tr>\n",
       "    <tr>\n",
       "      <th>100431</th>\n",
       "      <td>278</td>\n",
       "      <td>26:26.8</td>\n",
       "      <td>31:05.5</td>\n",
       "      <td>116.0</td>\n",
       "      <td>Mississippi St at 17th St</td>\n",
       "      <td>37.764802</td>\n",
       "      <td>-122.394771</td>\n",
       "      <td>364.0</td>\n",
       "      <td>China Basin St at 3rd St</td>\n",
       "      <td>37.772000</td>\n",
       "      <td>-122.389970</td>\n",
       "      <td>6220</td>\n",
       "      <td>Customer</td>\n",
       "      <td>NaN</td>\n",
       "      <td>NaN</td>\n",
       "      <td>No</td>\n",
       "    </tr>\n",
       "    <tr>\n",
       "      <th>126572</th>\n",
       "      <td>775</td>\n",
       "      <td>16:44.4</td>\n",
       "      <td>29:40.2</td>\n",
       "      <td>263.0</td>\n",
       "      <td>Channing Way at San Pablo Ave</td>\n",
       "      <td>37.862827</td>\n",
       "      <td>-122.290231</td>\n",
       "      <td>258.0</td>\n",
       "      <td>University Ave at Oxford St</td>\n",
       "      <td>37.872355</td>\n",
       "      <td>-122.266447</td>\n",
       "      <td>1560</td>\n",
       "      <td>Subscriber</td>\n",
       "      <td>1995.0</td>\n",
       "      <td>Male</td>\n",
       "      <td>No</td>\n",
       "    </tr>\n",
       "    <tr>\n",
       "      <th>97989</th>\n",
       "      <td>1021</td>\n",
       "      <td>13:52.6</td>\n",
       "      <td>30:54.0</td>\n",
       "      <td>112.0</td>\n",
       "      <td>Harrison St at 17th St</td>\n",
       "      <td>37.763847</td>\n",
       "      <td>-122.413004</td>\n",
       "      <td>19.0</td>\n",
       "      <td>Post St at Kearny St</td>\n",
       "      <td>37.788975</td>\n",
       "      <td>-122.403452</td>\n",
       "      <td>6268</td>\n",
       "      <td>Subscriber</td>\n",
       "      <td>1990.0</td>\n",
       "      <td>Male</td>\n",
       "      <td>No</td>\n",
       "    </tr>\n",
       "    <tr>\n",
       "      <th>181168</th>\n",
       "      <td>1375</td>\n",
       "      <td>11:15.4</td>\n",
       "      <td>34:10.8</td>\n",
       "      <td>15.0</td>\n",
       "      <td>San Francisco Ferry Building (Harry Bridges Pl...</td>\n",
       "      <td>37.795392</td>\n",
       "      <td>-122.394203</td>\n",
       "      <td>141.0</td>\n",
       "      <td>Valencia St at Cesar Chavez St</td>\n",
       "      <td>37.747998</td>\n",
       "      <td>-122.420219</td>\n",
       "      <td>5274</td>\n",
       "      <td>Subscriber</td>\n",
       "      <td>1975.0</td>\n",
       "      <td>Female</td>\n",
       "      <td>Yes</td>\n",
       "    </tr>\n",
       "    <tr>\n",
       "      <th>180780</th>\n",
       "      <td>853</td>\n",
       "      <td>59:09.3</td>\n",
       "      <td>13:23.2</td>\n",
       "      <td>168.0</td>\n",
       "      <td>Alcatraz Ave at Shattuck Ave</td>\n",
       "      <td>37.849595</td>\n",
       "      <td>-122.265569</td>\n",
       "      <td>213.0</td>\n",
       "      <td>32nd St at Adeline St</td>\n",
       "      <td>37.823847</td>\n",
       "      <td>-122.281193</td>\n",
       "      <td>2281</td>\n",
       "      <td>Subscriber</td>\n",
       "      <td>1971.0</td>\n",
       "      <td>Male</td>\n",
       "      <td>No</td>\n",
       "    </tr>\n",
       "    <tr>\n",
       "      <th>181850</th>\n",
       "      <td>3497</td>\n",
       "      <td>58:41.4</td>\n",
       "      <td>56:58.6</td>\n",
       "      <td>141.0</td>\n",
       "      <td>Valencia St at Cesar Chavez St</td>\n",
       "      <td>37.747998</td>\n",
       "      <td>-122.420219</td>\n",
       "      <td>15.0</td>\n",
       "      <td>San Francisco Ferry Building (Harry Bridges Pl...</td>\n",
       "      <td>37.795392</td>\n",
       "      <td>-122.394203</td>\n",
       "      <td>5226</td>\n",
       "      <td>Subscriber</td>\n",
       "      <td>1973.0</td>\n",
       "      <td>Male</td>\n",
       "      <td>Yes</td>\n",
       "    </tr>\n",
       "    <tr>\n",
       "      <th>114767</th>\n",
       "      <td>931</td>\n",
       "      <td>05:52.9</td>\n",
       "      <td>21:24.5</td>\n",
       "      <td>91.0</td>\n",
       "      <td>Berry St at King St</td>\n",
       "      <td>37.771762</td>\n",
       "      <td>-122.398438</td>\n",
       "      <td>23.0</td>\n",
       "      <td>The Embarcadero at Steuart St</td>\n",
       "      <td>37.791464</td>\n",
       "      <td>-122.391034</td>\n",
       "      <td>1159</td>\n",
       "      <td>Subscriber</td>\n",
       "      <td>1992.0</td>\n",
       "      <td>Male</td>\n",
       "      <td>No</td>\n",
       "    </tr>\n",
       "    <tr>\n",
       "      <th>154076</th>\n",
       "      <td>364</td>\n",
       "      <td>37:51.1</td>\n",
       "      <td>43:56.0</td>\n",
       "      <td>58.0</td>\n",
       "      <td>Market St at 10th St</td>\n",
       "      <td>37.776619</td>\n",
       "      <td>-122.417385</td>\n",
       "      <td>349.0</td>\n",
       "      <td>Howard St at Mary St</td>\n",
       "      <td>37.781010</td>\n",
       "      <td>-122.405666</td>\n",
       "      <td>1436</td>\n",
       "      <td>Customer</td>\n",
       "      <td>1990.0</td>\n",
       "      <td>Male</td>\n",
       "      <td>No</td>\n",
       "    </tr>\n",
       "    <tr>\n",
       "      <th>58840</th>\n",
       "      <td>281</td>\n",
       "      <td>19:16.9</td>\n",
       "      <td>23:58.1</td>\n",
       "      <td>241.0</td>\n",
       "      <td>Ashby BART Station</td>\n",
       "      <td>37.852477</td>\n",
       "      <td>-122.270213</td>\n",
       "      <td>242.0</td>\n",
       "      <td>Milvia St at Derby St</td>\n",
       "      <td>37.860125</td>\n",
       "      <td>-122.269384</td>\n",
       "      <td>5179</td>\n",
       "      <td>Subscriber</td>\n",
       "      <td>1983.0</td>\n",
       "      <td>Female</td>\n",
       "      <td>No</td>\n",
       "    </tr>\n",
       "    <tr>\n",
       "      <th>173683</th>\n",
       "      <td>244</td>\n",
       "      <td>04:59.6</td>\n",
       "      <td>09:04.4</td>\n",
       "      <td>207.0</td>\n",
       "      <td>Broadway at Coronado Ave</td>\n",
       "      <td>37.835788</td>\n",
       "      <td>-122.251621</td>\n",
       "      <td>171.0</td>\n",
       "      <td>Rockridge BART Station</td>\n",
       "      <td>37.844279</td>\n",
       "      <td>-122.251900</td>\n",
       "      <td>4642</td>\n",
       "      <td>Subscriber</td>\n",
       "      <td>1977.0</td>\n",
       "      <td>Female</td>\n",
       "      <td>Yes</td>\n",
       "    </tr>\n",
       "    <tr>\n",
       "      <th>168294</th>\n",
       "      <td>477</td>\n",
       "      <td>44:37.2</td>\n",
       "      <td>52:35.0</td>\n",
       "      <td>21.0</td>\n",
       "      <td>Montgomery St BART Station (Market St at 2nd St)</td>\n",
       "      <td>37.789625</td>\n",
       "      <td>-122.400811</td>\n",
       "      <td>42.0</td>\n",
       "      <td>San Francisco City Hall (Polk St at Grove St)</td>\n",
       "      <td>37.778650</td>\n",
       "      <td>-122.418230</td>\n",
       "      <td>5185</td>\n",
       "      <td>Subscriber</td>\n",
       "      <td>1990.0</td>\n",
       "      <td>Male</td>\n",
       "      <td>No</td>\n",
       "    </tr>\n",
       "    <tr>\n",
       "      <th>72309</th>\n",
       "      <td>701</td>\n",
       "      <td>33:47.7</td>\n",
       "      <td>45:29.4</td>\n",
       "      <td>350.0</td>\n",
       "      <td>8th St at Brannan St</td>\n",
       "      <td>37.771431</td>\n",
       "      <td>-122.405787</td>\n",
       "      <td>19.0</td>\n",
       "      <td>Post St at Kearny St</td>\n",
       "      <td>37.788975</td>\n",
       "      <td>-122.403452</td>\n",
       "      <td>6544</td>\n",
       "      <td>Subscriber</td>\n",
       "      <td>1990.0</td>\n",
       "      <td>Male</td>\n",
       "      <td>No</td>\n",
       "    </tr>\n",
       "    <tr>\n",
       "      <th>124742</th>\n",
       "      <td>451</td>\n",
       "      <td>18:30.6</td>\n",
       "      <td>26:02.1</td>\n",
       "      <td>16.0</td>\n",
       "      <td>Steuart St at Market St</td>\n",
       "      <td>37.794130</td>\n",
       "      <td>-122.394430</td>\n",
       "      <td>50.0</td>\n",
       "      <td>2nd St at Townsend St</td>\n",
       "      <td>37.780526</td>\n",
       "      <td>-122.390288</td>\n",
       "      <td>1863</td>\n",
       "      <td>Subscriber</td>\n",
       "      <td>1986.0</td>\n",
       "      <td>Male</td>\n",
       "      <td>No</td>\n",
       "    </tr>\n",
       "    <tr>\n",
       "      <th>20631</th>\n",
       "      <td>909</td>\n",
       "      <td>28:00.9</td>\n",
       "      <td>43:10.3</td>\n",
       "      <td>36.0</td>\n",
       "      <td>Folsom St at 3rd St</td>\n",
       "      <td>37.783830</td>\n",
       "      <td>-122.398870</td>\n",
       "      <td>6.0</td>\n",
       "      <td>The Embarcadero at Sansome St</td>\n",
       "      <td>37.804770</td>\n",
       "      <td>-122.403234</td>\n",
       "      <td>5377</td>\n",
       "      <td>Subscriber</td>\n",
       "      <td>1987.0</td>\n",
       "      <td>Male</td>\n",
       "      <td>No</td>\n",
       "    </tr>\n",
       "    <tr>\n",
       "      <th>31355</th>\n",
       "      <td>578</td>\n",
       "      <td>56:41.0</td>\n",
       "      <td>06:20.0</td>\n",
       "      <td>53.0</td>\n",
       "      <td>Grove St at Divisadero</td>\n",
       "      <td>37.775946</td>\n",
       "      <td>-122.437777</td>\n",
       "      <td>88.0</td>\n",
       "      <td>11th St at Bryant St</td>\n",
       "      <td>37.770030</td>\n",
       "      <td>-122.411726</td>\n",
       "      <td>6568</td>\n",
       "      <td>Subscriber</td>\n",
       "      <td>1976.0</td>\n",
       "      <td>Male</td>\n",
       "      <td>No</td>\n",
       "    </tr>\n",
       "    <tr>\n",
       "      <th>78438</th>\n",
       "      <td>505</td>\n",
       "      <td>35:21.2</td>\n",
       "      <td>43:46.3</td>\n",
       "      <td>93.0</td>\n",
       "      <td>4th St at Mission Bay Blvd S</td>\n",
       "      <td>37.770407</td>\n",
       "      <td>-122.391198</td>\n",
       "      <td>99.0</td>\n",
       "      <td>Folsom St at 15th St</td>\n",
       "      <td>37.767037</td>\n",
       "      <td>-122.415442</td>\n",
       "      <td>6602</td>\n",
       "      <td>Subscriber</td>\n",
       "      <td>1995.0</td>\n",
       "      <td>Male</td>\n",
       "      <td>No</td>\n",
       "    </tr>\n",
       "    <tr>\n",
       "      <th>163223</th>\n",
       "      <td>218</td>\n",
       "      <td>35:08.2</td>\n",
       "      <td>38:46.7</td>\n",
       "      <td>50.0</td>\n",
       "      <td>2nd St at Townsend St</td>\n",
       "      <td>37.780526</td>\n",
       "      <td>-122.390288</td>\n",
       "      <td>27.0</td>\n",
       "      <td>Beale St at Harrison St</td>\n",
       "      <td>37.788059</td>\n",
       "      <td>-122.391865</td>\n",
       "      <td>5425</td>\n",
       "      <td>Subscriber</td>\n",
       "      <td>1968.0</td>\n",
       "      <td>Male</td>\n",
       "      <td>No</td>\n",
       "    </tr>\n",
       "    <tr>\n",
       "      <th>120149</th>\n",
       "      <td>7277</td>\n",
       "      <td>23:32.5</td>\n",
       "      <td>24:49.6</td>\n",
       "      <td>6.0</td>\n",
       "      <td>The Embarcadero at Sansome St</td>\n",
       "      <td>37.804770</td>\n",
       "      <td>-122.403234</td>\n",
       "      <td>29.0</td>\n",
       "      <td>O'Farrell St at Divisadero St</td>\n",
       "      <td>37.782405</td>\n",
       "      <td>-122.439446</td>\n",
       "      <td>809</td>\n",
       "      <td>Customer</td>\n",
       "      <td>NaN</td>\n",
       "      <td>NaN</td>\n",
       "      <td>No</td>\n",
       "    </tr>\n",
       "    <tr>\n",
       "      <th>45636</th>\n",
       "      <td>452</td>\n",
       "      <td>43:49.6</td>\n",
       "      <td>51:21.7</td>\n",
       "      <td>50.0</td>\n",
       "      <td>2nd St at Townsend St</td>\n",
       "      <td>37.780526</td>\n",
       "      <td>-122.390288</td>\n",
       "      <td>28.0</td>\n",
       "      <td>The Embarcadero at Bryant St</td>\n",
       "      <td>37.787168</td>\n",
       "      <td>-122.388098</td>\n",
       "      <td>5543</td>\n",
       "      <td>Subscriber</td>\n",
       "      <td>1986.0</td>\n",
       "      <td>Male</td>\n",
       "      <td>No</td>\n",
       "    </tr>\n",
       "    <tr>\n",
       "      <th>144707</th>\n",
       "      <td>1101</td>\n",
       "      <td>11:17.8</td>\n",
       "      <td>29:39.3</td>\n",
       "      <td>119.0</td>\n",
       "      <td>18th St at Noe St</td>\n",
       "      <td>37.761047</td>\n",
       "      <td>-122.432642</td>\n",
       "      <td>142.0</td>\n",
       "      <td>Guerrero Park</td>\n",
       "      <td>37.745739</td>\n",
       "      <td>-122.422140</td>\n",
       "      <td>723</td>\n",
       "      <td>Subscriber</td>\n",
       "      <td>1963.0</td>\n",
       "      <td>Female</td>\n",
       "      <td>No</td>\n",
       "    </tr>\n",
       "  </tbody>\n",
       "</table>\n",
       "</div>"
      ],
      "text/plain": [
       "        duration_sec start_time end_time  start_station_id  \\\n",
       "105487          1036    52:39.4  09:56.3             126.0   \n",
       "151998           332    41:02.0  46:34.5              27.0   \n",
       "134855           394    41:09.5  47:43.9              26.0   \n",
       "93690            319    26:37.4  31:56.6             163.0   \n",
       "1830             121    45:19.8  47:21.1             195.0   \n",
       "101167          1028    36:19.4  53:28.2              13.0   \n",
       "104281           368    46:10.4  52:18.4             345.0   \n",
       "170380           938    08:36.7  24:15.3             115.0   \n",
       "132776           606    10:59.7  21:06.6             343.0   \n",
       "120321          1260    55:47.3  16:47.5             377.0   \n",
       "120477           447    00:29.8  07:57.2             256.0   \n",
       "2539            1747    39:10.2  08:17.8              23.0   \n",
       "42953            788    01:25.7  14:34.2             284.0   \n",
       "68060            255    48:29.5  52:45.0             157.0   \n",
       "41554            505    24:24.3  32:50.0              22.0   \n",
       "73774           1023    28:44.8  45:48.4              90.0   \n",
       "56741            680    45:23.0  56:43.9               9.0   \n",
       "153297           695    59:09.6  10:45.4             104.0   \n",
       "8743             282    10:54.1  15:36.1             249.0   \n",
       "66782           1101    19:19.0  37:40.1              10.0   \n",
       "83050           1007    12:09.9  28:57.4              23.0   \n",
       "70616            551    06:53.5  16:05.4              26.0   \n",
       "115368           261    47:39.0  52:00.7              14.0   \n",
       "39585            614    13:22.5  23:37.3             129.0   \n",
       "22294            575    15:25.6  25:00.7             112.0   \n",
       "18235            453    02:27.7  10:01.2              67.0   \n",
       "101917          1001    58:42.2  15:24.1             343.0   \n",
       "146715           391    32:57.3  39:28.5             200.0   \n",
       "129246           545    03:59.2  13:04.9              61.0   \n",
       "73052            835    50:29.4  04:24.5              97.0   \n",
       "100431           278    26:26.8  31:05.5             116.0   \n",
       "126572           775    16:44.4  29:40.2             263.0   \n",
       "97989           1021    13:52.6  30:54.0             112.0   \n",
       "181168          1375    11:15.4  34:10.8              15.0   \n",
       "180780           853    59:09.3  13:23.2             168.0   \n",
       "181850          3497    58:41.4  56:58.6             141.0   \n",
       "114767           931    05:52.9  21:24.5              91.0   \n",
       "154076           364    37:51.1  43:56.0              58.0   \n",
       "58840            281    19:16.9  23:58.1             241.0   \n",
       "173683           244    04:59.6  09:04.4             207.0   \n",
       "168294           477    44:37.2  52:35.0              21.0   \n",
       "72309            701    33:47.7  45:29.4             350.0   \n",
       "124742           451    18:30.6  26:02.1              16.0   \n",
       "20631            909    28:00.9  43:10.3              36.0   \n",
       "31355            578    56:41.0  06:20.0              53.0   \n",
       "78438            505    35:21.2  43:46.3              93.0   \n",
       "163223           218    35:08.2  38:46.7              50.0   \n",
       "120149          7277    23:32.5  24:49.6               6.0   \n",
       "45636            452    43:49.6  51:21.7              50.0   \n",
       "144707          1101    11:17.8  29:39.3             119.0   \n",
       "\n",
       "                                       start_station_name  \\\n",
       "105487                                        Esprit Park   \n",
       "151998                            Beale St at Harrison St   \n",
       "134855                                1st St at Folsom St   \n",
       "93690                           Lake Merritt BART Station   \n",
       "1830                                  Bay Pl at Vernon St   \n",
       "101167                     Commercial St at Montgomery St   \n",
       "104281                              Hubbell St at 16th St   \n",
       "170380                                 Jackson Playground   \n",
       "132776                                Bryant St at 2nd St   \n",
       "120321                              Fell St at Stanyan St   \n",
       "120477                           Hearst Ave at Euclid Ave   \n",
       "2539                        The Embarcadero at Steuart St   \n",
       "42953   Yerba Buena Center for the Arts (Howard St at ...   \n",
       "68060                                65th St at Hollis St   \n",
       "41554                               Howard St at Beale St   \n",
       "73774                               Townsend St at 7th St   \n",
       "56741                              Broadway at Battery St   \n",
       "153297                                  4th St at 16th St   \n",
       "8743                            Russell St at College Ave   \n",
       "66782                          Washington St at Kearny St   \n",
       "83050                       The Embarcadero at Steuart St   \n",
       "70616                                 1st St at Folsom St   \n",
       "115368                              Clay St at Battery St   \n",
       "39585                              Harrison St at 20th St   \n",
       "22294                              Harrison St at 17th St   \n",
       "18235   San Francisco Caltrain Station 2  (Townsend St...   \n",
       "101917                                Bryant St at 2nd St   \n",
       "146715                               2nd Ave at E 18th St   \n",
       "129246                                Howard St at 8th St   \n",
       "73052                               14th St at Mission St   \n",
       "100431                          Mississippi St at 17th St   \n",
       "126572                      Channing Way at San Pablo Ave   \n",
       "97989                              Harrison St at 17th St   \n",
       "181168  San Francisco Ferry Building (Harry Bridges Pl...   \n",
       "180780                       Alcatraz Ave at Shattuck Ave   \n",
       "181850                     Valencia St at Cesar Chavez St   \n",
       "114767                                Berry St at King St   \n",
       "154076                               Market St at 10th St   \n",
       "58840                                  Ashby BART Station   \n",
       "173683                           Broadway at Coronado Ave   \n",
       "168294   Montgomery St BART Station (Market St at 2nd St)   \n",
       "72309                                8th St at Brannan St   \n",
       "124742                            Steuart St at Market St   \n",
       "20631                                 Folsom St at 3rd St   \n",
       "31355                              Grove St at Divisadero   \n",
       "78438                        4th St at Mission Bay Blvd S   \n",
       "163223                              2nd St at Townsend St   \n",
       "120149                      The Embarcadero at Sansome St   \n",
       "45636                               2nd St at Townsend St   \n",
       "144707                                  18th St at Noe St   \n",
       "\n",
       "        start_station_latitude  start_station_longitude  end_station_id  \\\n",
       "105487               37.761634              -122.390648            15.0   \n",
       "151998               37.788059              -122.391865            30.0   \n",
       "134855               37.787290              -122.394380           284.0   \n",
       "93690                37.797320              -122.265320           200.0   \n",
       "1830                 37.812314              -122.260779           196.0   \n",
       "101167               37.794231              -122.402923           364.0   \n",
       "104281               37.766483              -122.398279           124.0   \n",
       "170380               37.765026              -122.398773            21.0   \n",
       "132776               37.783172              -122.393572           126.0   \n",
       "120321               37.771917              -122.453705            74.0   \n",
       "120477               37.875112              -122.260553           245.0   \n",
       "2539                 37.791464              -122.391034            81.0   \n",
       "42953                37.784872              -122.400876           350.0   \n",
       "68060                37.846784              -122.291376           265.0   \n",
       "41554                37.789756              -122.394643            66.0   \n",
       "73774                37.771058              -122.402717            58.0   \n",
       "56741                37.798572              -122.400869            81.0   \n",
       "153297               37.767045              -122.390833             3.0   \n",
       "8743                 37.858473              -122.253253           243.0   \n",
       "66782                37.795393              -122.404770           126.0   \n",
       "83050                37.791464              -122.391034            84.0   \n",
       "70616                37.787290              -122.394380            15.0   \n",
       "115368               37.795001              -122.399970             6.0   \n",
       "39585                37.758862              -122.412544            89.0   \n",
       "22294                37.763847              -122.413004            67.0   \n",
       "18235                37.776639              -122.395526           336.0   \n",
       "101917               37.783172              -122.393572            74.0   \n",
       "146715               37.800214              -122.253810           163.0   \n",
       "129246               37.776513              -122.411306            67.0   \n",
       "73052                37.768265              -122.420110           118.0   \n",
       "100431               37.764802              -122.394771           364.0   \n",
       "126572               37.862827              -122.290231           258.0   \n",
       "97989                37.763847              -122.413004            19.0   \n",
       "181168               37.795392              -122.394203           141.0   \n",
       "180780               37.849595              -122.265569           213.0   \n",
       "181850               37.747998              -122.420219            15.0   \n",
       "114767               37.771762              -122.398438            23.0   \n",
       "154076               37.776619              -122.417385           349.0   \n",
       "58840                37.852477              -122.270213           242.0   \n",
       "173683               37.835788              -122.251621           171.0   \n",
       "168294               37.789625              -122.400811            42.0   \n",
       "72309                37.771431              -122.405787            19.0   \n",
       "124742               37.794130              -122.394430            50.0   \n",
       "20631                37.783830              -122.398870             6.0   \n",
       "31355                37.775946              -122.437777            88.0   \n",
       "78438                37.770407              -122.391198            99.0   \n",
       "163223               37.780526              -122.390288            27.0   \n",
       "120149               37.804770              -122.403234            29.0   \n",
       "45636                37.780526              -122.390288            28.0   \n",
       "144707               37.761047              -122.432642           142.0   \n",
       "\n",
       "                                         end_station_name  \\\n",
       "105487  San Francisco Ferry Building (Harry Bridges Pl...   \n",
       "151998     San Francisco Caltrain (Townsend St at 4th St)   \n",
       "134855  Yerba Buena Center for the Arts (Howard St at ...   \n",
       "93690                                2nd Ave at E 18th St   \n",
       "1830                              Grand Ave at Perkins St   \n",
       "101167                           China Basin St at 3rd St   \n",
       "104281                              19th St at Florida St   \n",
       "170380   Montgomery St BART Station (Market St at 2nd St)   \n",
       "132776                                        Esprit Park   \n",
       "120321                              Laguna St at Hayes St   \n",
       "120477                             Downtown Berkeley BART   \n",
       "2539                                   Berry St at 4th St   \n",
       "42953                                8th St at Brannan St   \n",
       "68060                               Ninth St at Parker St   \n",
       "41554                               3rd St at Townsend St   \n",
       "73774                                Market St at 10th St   \n",
       "56741                                  Berry St at 4th St   \n",
       "153297       Powell St BART Station (Market St at 4th St)   \n",
       "8743                          Bancroft Way at College Ave   \n",
       "66782                                         Esprit Park   \n",
       "83050                                         Duboce Park   \n",
       "70616   San Francisco Ferry Building (Harry Bridges Pl...   \n",
       "115368                      The Embarcadero at Sansome St   \n",
       "39585                          Division St at Potrero Ave   \n",
       "22294   San Francisco Caltrain Station 2  (Townsend St...   \n",
       "18235                         Potrero Ave and Mariposa St   \n",
       "101917                              Laguna St at Hayes St   \n",
       "146715                          Lake Merritt BART Station   \n",
       "129246  San Francisco Caltrain Station 2  (Townsend St...   \n",
       "73052                     Eureka Valley Recreation Center   \n",
       "100431                           China Basin St at 3rd St   \n",
       "126572                        University Ave at Oxford St   \n",
       "97989                                Post St at Kearny St   \n",
       "181168                     Valencia St at Cesar Chavez St   \n",
       "180780                              32nd St at Adeline St   \n",
       "181850  San Francisco Ferry Building (Harry Bridges Pl...   \n",
       "114767                      The Embarcadero at Steuart St   \n",
       "154076                               Howard St at Mary St   \n",
       "58840                               Milvia St at Derby St   \n",
       "173683                             Rockridge BART Station   \n",
       "168294      San Francisco City Hall (Polk St at Grove St)   \n",
       "72309                                Post St at Kearny St   \n",
       "124742                              2nd St at Townsend St   \n",
       "20631                       The Embarcadero at Sansome St   \n",
       "31355                                11th St at Bryant St   \n",
       "78438                                Folsom St at 15th St   \n",
       "163223                            Beale St at Harrison St   \n",
       "120149                      O'Farrell St at Divisadero St   \n",
       "45636                        The Embarcadero at Bryant St   \n",
       "144707                                      Guerrero Park   \n",
       "\n",
       "        end_station_latitude  end_station_longitude  bike_id   user_type  \\\n",
       "105487             37.795392            -122.394203     2820  Subscriber   \n",
       "151998             37.776598            -122.395282     4977  Subscriber   \n",
       "134855             37.784872            -122.400876     5360  Subscriber   \n",
       "93690              37.800214            -122.253810     2983  Subscriber   \n",
       "1830               37.808894            -122.256460     4916  Subscriber   \n",
       "101167             37.772000            -122.389970     1846  Subscriber   \n",
       "104281             37.760447            -122.410807     4800  Subscriber   \n",
       "170380             37.789625            -122.400811     5554  Subscriber   \n",
       "132776             37.761634            -122.390648     4949  Subscriber   \n",
       "120321             37.776435            -122.426244     1902    Customer   \n",
       "120477             37.870139            -122.268422     5211  Subscriber   \n",
       "2539               37.775880            -122.393170     4445  Subscriber   \n",
       "42953              37.771431            -122.405787     4834  Subscriber   \n",
       "68060              37.858868            -122.291209     6450  Subscriber   \n",
       "41554              37.778742            -122.392741     6141  Subscriber   \n",
       "73774              37.776619            -122.417385     3658  Subscriber   \n",
       "56741              37.775880            -122.393170     6644  Subscriber   \n",
       "153297             37.786375            -122.404904     4414    Customer   \n",
       "8743               37.869360            -122.254337     6397  Subscriber   \n",
       "66782              37.761634            -122.390648     5400  Subscriber   \n",
       "83050              37.769200            -122.433812     5148  Subscriber   \n",
       "70616              37.795392            -122.394203     5853  Subscriber   \n",
       "115368             37.804770            -122.403234     4713  Subscriber   \n",
       "39585              37.769218            -122.407646     5440  Subscriber   \n",
       "22294              37.776639            -122.395526     6365  Subscriber   \n",
       "18235              37.763281            -122.407377     4659  Subscriber   \n",
       "101917             37.776435            -122.426244     4814  Subscriber   \n",
       "146715             37.797320            -122.265320     3282  Subscriber   \n",
       "129246             37.776639            -122.395526     2299  Subscriber   \n",
       "73052              37.759177            -122.436943      283  Subscriber   \n",
       "100431             37.772000            -122.389970     6220    Customer   \n",
       "126572             37.872355            -122.266447     1560  Subscriber   \n",
       "97989              37.788975            -122.403452     6268  Subscriber   \n",
       "181168             37.747998            -122.420219     5274  Subscriber   \n",
       "180780             37.823847            -122.281193     2281  Subscriber   \n",
       "181850             37.795392            -122.394203     5226  Subscriber   \n",
       "114767             37.791464            -122.391034     1159  Subscriber   \n",
       "154076             37.781010            -122.405666     1436    Customer   \n",
       "58840              37.860125            -122.269384     5179  Subscriber   \n",
       "173683             37.844279            -122.251900     4642  Subscriber   \n",
       "168294             37.778650            -122.418230     5185  Subscriber   \n",
       "72309              37.788975            -122.403452     6544  Subscriber   \n",
       "124742             37.780526            -122.390288     1863  Subscriber   \n",
       "20631              37.804770            -122.403234     5377  Subscriber   \n",
       "31355              37.770030            -122.411726     6568  Subscriber   \n",
       "78438              37.767037            -122.415442     6602  Subscriber   \n",
       "163223             37.788059            -122.391865     5425  Subscriber   \n",
       "120149             37.782405            -122.439446      809    Customer   \n",
       "45636              37.787168            -122.388098     5543  Subscriber   \n",
       "144707             37.745739            -122.422140      723  Subscriber   \n",
       "\n",
       "        member_birth_year member_gender bike_share_for_all_trip  \n",
       "105487             1952.0          Male                      No  \n",
       "151998             1966.0          Male                      No  \n",
       "134855             1980.0        Female                      No  \n",
       "93690              1971.0          Male                      No  \n",
       "1830               1989.0          Male                      No  \n",
       "101167             1986.0        Female                      No  \n",
       "104281             1993.0        Female                      No  \n",
       "170380             1978.0          Male                      No  \n",
       "132776             1990.0          Male                      No  \n",
       "120321             1980.0          Male                      No  \n",
       "120477             1987.0          Male                      No  \n",
       "2539               1990.0        Female                      No  \n",
       "42953              1993.0          Male                      No  \n",
       "68060              1983.0          Male                      No  \n",
       "41554              1989.0          Male                      No  \n",
       "73774              1978.0          Male                      No  \n",
       "56741              1981.0        Female                      No  \n",
       "153297             1993.0          Male                      No  \n",
       "8743               1990.0          Male                      No  \n",
       "66782              1989.0        Female                      No  \n",
       "83050              1993.0          Male                      No  \n",
       "70616              1976.0        Female                      No  \n",
       "115368             1980.0          Male                      No  \n",
       "39585              1964.0         Other                      No  \n",
       "22294              1991.0        Female                      No  \n",
       "18235              1994.0          Male                      No  \n",
       "101917             1990.0        Female                      No  \n",
       "146715             1984.0        Female                      No  \n",
       "129246             1991.0          Male                      No  \n",
       "73052              1980.0        Female                      No  \n",
       "100431                NaN           NaN                      No  \n",
       "126572             1995.0          Male                      No  \n",
       "97989              1990.0          Male                      No  \n",
       "181168             1975.0        Female                     Yes  \n",
       "180780             1971.0          Male                      No  \n",
       "181850             1973.0          Male                     Yes  \n",
       "114767             1992.0          Male                      No  \n",
       "154076             1990.0          Male                      No  \n",
       "58840              1983.0        Female                      No  \n",
       "173683             1977.0        Female                     Yes  \n",
       "168294             1990.0          Male                      No  \n",
       "72309              1990.0          Male                      No  \n",
       "124742             1986.0          Male                      No  \n",
       "20631              1987.0          Male                      No  \n",
       "31355              1976.0          Male                      No  \n",
       "78438              1995.0          Male                      No  \n",
       "163223             1968.0          Male                      No  \n",
       "120149                NaN           NaN                      No  \n",
       "45636              1986.0          Male                      No  \n",
       "144707             1963.0        Female                      No  "
      ]
     },
     "execution_count": 5,
     "metadata": {},
     "output_type": "execute_result"
    }
   ],
   "source": [
    "# Randomly checking a sample of 50 datapoints to understand the dataset\n",
    "fordGo_df.sample(50)"
   ]
  },
  {
   "cell_type": "markdown",
   "metadata": {
    "slideshow": {
     "slide_type": "skip"
    }
   },
   "source": [
    "###### Observations from the sampled data\n",
    "* The start_time and end_time variables  are not properly formatted\n",
    "* The start_station_id and end_station_id are not in proper format\n",
    "* member_birth_year is not properly formatted "
   ]
  },
  {
   "cell_type": "code",
   "execution_count": 6,
   "metadata": {
    "scrolled": true,
    "slideshow": {
     "slide_type": "skip"
    }
   },
   "outputs": [
    {
     "data": {
      "text/plain": [
       "duration_sec                 int64\n",
       "start_time                  object\n",
       "end_time                    object\n",
       "start_station_id           float64\n",
       "start_station_name          object\n",
       "start_station_latitude     float64\n",
       "start_station_longitude    float64\n",
       "end_station_id             float64\n",
       "end_station_name            object\n",
       "end_station_latitude       float64\n",
       "end_station_longitude      float64\n",
       "bike_id                      int64\n",
       "user_type                   object\n",
       "member_birth_year          float64\n",
       "member_gender               object\n",
       "bike_share_for_all_trip     object\n",
       "dtype: object"
      ]
     },
     "execution_count": 6,
     "metadata": {},
     "output_type": "execute_result"
    }
   ],
   "source": [
    "# Checking the datatypes of each avriables in the dataset\n",
    "fordGo_df.dtypes"
   ]
  },
  {
   "cell_type": "markdown",
   "metadata": {
    "slideshow": {
     "slide_type": "skip"
    }
   },
   "source": [
    "###### Observations\n",
    "* stat_station_id should be float\n",
    "* end_station_id should be float\n",
    "* member_birth_year should be int"
   ]
  },
  {
   "cell_type": "code",
   "execution_count": 7,
   "metadata": {
    "slideshow": {
     "slide_type": "skip"
    }
   },
   "outputs": [
    {
     "data": {
      "text/plain": [
       "duration_sec                4752\n",
       "start_time                 35783\n",
       "end_time                   35767\n",
       "start_station_id             329\n",
       "start_station_name           329\n",
       "start_station_latitude       334\n",
       "start_station_longitude      335\n",
       "end_station_id               329\n",
       "end_station_name             329\n",
       "end_station_latitude         335\n",
       "end_station_longitude        335\n",
       "bike_id                     4646\n",
       "user_type                      2\n",
       "member_birth_year             75\n",
       "member_gender                  3\n",
       "bike_share_for_all_trip        2\n",
       "dtype: int64"
      ]
     },
     "execution_count": 7,
     "metadata": {},
     "output_type": "execute_result"
    }
   ],
   "source": [
    "# checking the unique values to dected variables that should be made categorical values\n",
    "fordGo_df.nunique()"
   ]
  },
  {
   "cell_type": "markdown",
   "metadata": {
    "slideshow": {
     "slide_type": "skip"
    }
   },
   "source": [
    "###### Observation\n",
    "> user_type, member_gender and bike_share_for_all_trip columns should be in categorical data type"
   ]
  },
  {
   "cell_type": "code",
   "execution_count": 8,
   "metadata": {
    "slideshow": {
     "slide_type": "skip"
    }
   },
   "outputs": [
    {
     "data": {
      "text/html": [
       "<div>\n",
       "<style scoped>\n",
       "    .dataframe tbody tr th:only-of-type {\n",
       "        vertical-align: middle;\n",
       "    }\n",
       "\n",
       "    .dataframe tbody tr th {\n",
       "        vertical-align: top;\n",
       "    }\n",
       "\n",
       "    .dataframe thead th {\n",
       "        text-align: right;\n",
       "    }\n",
       "</style>\n",
       "<table border=\"1\" class=\"dataframe\">\n",
       "  <thead>\n",
       "    <tr style=\"text-align: right;\">\n",
       "      <th></th>\n",
       "      <th>duration_sec</th>\n",
       "      <th>start_station_id</th>\n",
       "      <th>start_station_latitude</th>\n",
       "      <th>start_station_longitude</th>\n",
       "      <th>end_station_id</th>\n",
       "      <th>end_station_latitude</th>\n",
       "      <th>end_station_longitude</th>\n",
       "      <th>bike_id</th>\n",
       "      <th>member_birth_year</th>\n",
       "    </tr>\n",
       "  </thead>\n",
       "  <tbody>\n",
       "    <tr>\n",
       "      <th>count</th>\n",
       "      <td>183412.000000</td>\n",
       "      <td>183215.000000</td>\n",
       "      <td>183412.000000</td>\n",
       "      <td>183412.000000</td>\n",
       "      <td>183215.000000</td>\n",
       "      <td>183412.000000</td>\n",
       "      <td>183412.000000</td>\n",
       "      <td>183412.000000</td>\n",
       "      <td>175147.000000</td>\n",
       "    </tr>\n",
       "    <tr>\n",
       "      <th>mean</th>\n",
       "      <td>726.078435</td>\n",
       "      <td>138.590427</td>\n",
       "      <td>37.771223</td>\n",
       "      <td>-122.352664</td>\n",
       "      <td>136.249123</td>\n",
       "      <td>37.771427</td>\n",
       "      <td>-122.352250</td>\n",
       "      <td>4472.906375</td>\n",
       "      <td>1984.806437</td>\n",
       "    </tr>\n",
       "    <tr>\n",
       "      <th>std</th>\n",
       "      <td>1794.389780</td>\n",
       "      <td>111.778864</td>\n",
       "      <td>0.099581</td>\n",
       "      <td>0.117097</td>\n",
       "      <td>111.515131</td>\n",
       "      <td>0.099490</td>\n",
       "      <td>0.116673</td>\n",
       "      <td>1664.383394</td>\n",
       "      <td>10.116689</td>\n",
       "    </tr>\n",
       "    <tr>\n",
       "      <th>min</th>\n",
       "      <td>61.000000</td>\n",
       "      <td>3.000000</td>\n",
       "      <td>37.317298</td>\n",
       "      <td>-122.453705</td>\n",
       "      <td>3.000000</td>\n",
       "      <td>37.317298</td>\n",
       "      <td>-122.453705</td>\n",
       "      <td>11.000000</td>\n",
       "      <td>1878.000000</td>\n",
       "    </tr>\n",
       "    <tr>\n",
       "      <th>25%</th>\n",
       "      <td>325.000000</td>\n",
       "      <td>47.000000</td>\n",
       "      <td>37.770083</td>\n",
       "      <td>-122.412408</td>\n",
       "      <td>44.000000</td>\n",
       "      <td>37.770407</td>\n",
       "      <td>-122.411726</td>\n",
       "      <td>3777.000000</td>\n",
       "      <td>1980.000000</td>\n",
       "    </tr>\n",
       "    <tr>\n",
       "      <th>50%</th>\n",
       "      <td>514.000000</td>\n",
       "      <td>104.000000</td>\n",
       "      <td>37.780760</td>\n",
       "      <td>-122.398285</td>\n",
       "      <td>100.000000</td>\n",
       "      <td>37.781010</td>\n",
       "      <td>-122.398279</td>\n",
       "      <td>4958.000000</td>\n",
       "      <td>1987.000000</td>\n",
       "    </tr>\n",
       "    <tr>\n",
       "      <th>75%</th>\n",
       "      <td>796.000000</td>\n",
       "      <td>239.000000</td>\n",
       "      <td>37.797280</td>\n",
       "      <td>-122.286533</td>\n",
       "      <td>235.000000</td>\n",
       "      <td>37.797320</td>\n",
       "      <td>-122.288045</td>\n",
       "      <td>5502.000000</td>\n",
       "      <td>1992.000000</td>\n",
       "    </tr>\n",
       "    <tr>\n",
       "      <th>max</th>\n",
       "      <td>85444.000000</td>\n",
       "      <td>398.000000</td>\n",
       "      <td>37.880222</td>\n",
       "      <td>-121.874119</td>\n",
       "      <td>398.000000</td>\n",
       "      <td>37.880222</td>\n",
       "      <td>-121.874119</td>\n",
       "      <td>6645.000000</td>\n",
       "      <td>2001.000000</td>\n",
       "    </tr>\n",
       "  </tbody>\n",
       "</table>\n",
       "</div>"
      ],
      "text/plain": [
       "        duration_sec  start_station_id  start_station_latitude  \\\n",
       "count  183412.000000     183215.000000           183412.000000   \n",
       "mean      726.078435        138.590427               37.771223   \n",
       "std      1794.389780        111.778864                0.099581   \n",
       "min        61.000000          3.000000               37.317298   \n",
       "25%       325.000000         47.000000               37.770083   \n",
       "50%       514.000000        104.000000               37.780760   \n",
       "75%       796.000000        239.000000               37.797280   \n",
       "max     85444.000000        398.000000               37.880222   \n",
       "\n",
       "       start_station_longitude  end_station_id  end_station_latitude  \\\n",
       "count            183412.000000   183215.000000         183412.000000   \n",
       "mean               -122.352664      136.249123             37.771427   \n",
       "std                   0.117097      111.515131              0.099490   \n",
       "min                -122.453705        3.000000             37.317298   \n",
       "25%                -122.412408       44.000000             37.770407   \n",
       "50%                -122.398285      100.000000             37.781010   \n",
       "75%                -122.286533      235.000000             37.797320   \n",
       "max                -121.874119      398.000000             37.880222   \n",
       "\n",
       "       end_station_longitude        bike_id  member_birth_year  \n",
       "count          183412.000000  183412.000000      175147.000000  \n",
       "mean             -122.352250    4472.906375        1984.806437  \n",
       "std                 0.116673    1664.383394          10.116689  \n",
       "min              -122.453705      11.000000        1878.000000  \n",
       "25%              -122.411726    3777.000000        1980.000000  \n",
       "50%              -122.398279    4958.000000        1987.000000  \n",
       "75%              -122.288045    5502.000000        1992.000000  \n",
       "max              -121.874119    6645.000000        2001.000000  "
      ]
     },
     "execution_count": 8,
     "metadata": {},
     "output_type": "execute_result"
    }
   ],
   "source": [
    "#checking the summary statistics of the dataset\n",
    "fordGo_df.describe()"
   ]
  },
  {
   "cell_type": "markdown",
   "metadata": {
    "slideshow": {
     "slide_type": "skip"
    }
   },
   "source": [
    "###### information from the summary statistics\n",
    "* The duration has a mean of 726.078435 seconds, maximum of 85444 seconds, minimum of 61 seconds, and 50 percent of the data falls in between 514 seconds\n",
    "* The member_birth_year variable has 2001 as the most recent, 1878 as the oldest and a 50% of the user falls in the range of 1987\n",
    "\n",
    "> It is obvious that the oldest value is an outlier "
   ]
  },
  {
   "cell_type": "code",
   "execution_count": 9,
   "metadata": {
    "scrolled": true,
    "slideshow": {
     "slide_type": "skip"
    }
   },
   "outputs": [
    {
     "data": {
      "text/html": [
       "<div>\n",
       "<style scoped>\n",
       "    .dataframe tbody tr th:only-of-type {\n",
       "        vertical-align: middle;\n",
       "    }\n",
       "\n",
       "    .dataframe tbody tr th {\n",
       "        vertical-align: top;\n",
       "    }\n",
       "\n",
       "    .dataframe thead th {\n",
       "        text-align: right;\n",
       "    }\n",
       "</style>\n",
       "<table border=\"1\" class=\"dataframe\">\n",
       "  <thead>\n",
       "    <tr style=\"text-align: right;\">\n",
       "      <th></th>\n",
       "      <th>duration_sec</th>\n",
       "      <th>start_time</th>\n",
       "      <th>end_time</th>\n",
       "      <th>start_station_id</th>\n",
       "      <th>start_station_name</th>\n",
       "      <th>start_station_latitude</th>\n",
       "      <th>start_station_longitude</th>\n",
       "      <th>end_station_id</th>\n",
       "      <th>end_station_name</th>\n",
       "      <th>end_station_latitude</th>\n",
       "      <th>end_station_longitude</th>\n",
       "      <th>bike_id</th>\n",
       "      <th>user_type</th>\n",
       "      <th>member_birth_year</th>\n",
       "      <th>member_gender</th>\n",
       "      <th>bike_share_for_all_trip</th>\n",
       "    </tr>\n",
       "  </thead>\n",
       "  <tbody>\n",
       "    <tr>\n",
       "      <th>475</th>\n",
       "      <td>1709</td>\n",
       "      <td>55:53.9</td>\n",
       "      <td>24:23.7</td>\n",
       "      <td>NaN</td>\n",
       "      <td>NaN</td>\n",
       "      <td>37.40</td>\n",
       "      <td>-121.94</td>\n",
       "      <td>NaN</td>\n",
       "      <td>NaN</td>\n",
       "      <td>37.40</td>\n",
       "      <td>-121.93</td>\n",
       "      <td>4211</td>\n",
       "      <td>Customer</td>\n",
       "      <td>1991.0</td>\n",
       "      <td>Female</td>\n",
       "      <td>No</td>\n",
       "    </tr>\n",
       "    <tr>\n",
       "      <th>1733</th>\n",
       "      <td>1272</td>\n",
       "      <td>32:34.3</td>\n",
       "      <td>53:46.7</td>\n",
       "      <td>NaN</td>\n",
       "      <td>NaN</td>\n",
       "      <td>37.40</td>\n",
       "      <td>-121.94</td>\n",
       "      <td>NaN</td>\n",
       "      <td>NaN</td>\n",
       "      <td>37.41</td>\n",
       "      <td>-121.96</td>\n",
       "      <td>4174</td>\n",
       "      <td>Subscriber</td>\n",
       "      <td>1980.0</td>\n",
       "      <td>Male</td>\n",
       "      <td>No</td>\n",
       "    </tr>\n",
       "    <tr>\n",
       "      <th>3625</th>\n",
       "      <td>142</td>\n",
       "      <td>10:46.5</td>\n",
       "      <td>13:09.4</td>\n",
       "      <td>NaN</td>\n",
       "      <td>NaN</td>\n",
       "      <td>37.41</td>\n",
       "      <td>-121.95</td>\n",
       "      <td>NaN</td>\n",
       "      <td>NaN</td>\n",
       "      <td>37.41</td>\n",
       "      <td>-121.96</td>\n",
       "      <td>4283</td>\n",
       "      <td>Subscriber</td>\n",
       "      <td>1988.0</td>\n",
       "      <td>Male</td>\n",
       "      <td>No</td>\n",
       "    </tr>\n",
       "    <tr>\n",
       "      <th>4070</th>\n",
       "      <td>585</td>\n",
       "      <td>28:45.9</td>\n",
       "      <td>38:31.3</td>\n",
       "      <td>NaN</td>\n",
       "      <td>NaN</td>\n",
       "      <td>37.39</td>\n",
       "      <td>-121.93</td>\n",
       "      <td>NaN</td>\n",
       "      <td>NaN</td>\n",
       "      <td>37.40</td>\n",
       "      <td>-121.92</td>\n",
       "      <td>4089</td>\n",
       "      <td>Subscriber</td>\n",
       "      <td>1984.0</td>\n",
       "      <td>Male</td>\n",
       "      <td>Yes</td>\n",
       "    </tr>\n",
       "    <tr>\n",
       "      <th>5654</th>\n",
       "      <td>509</td>\n",
       "      <td>30:17.1</td>\n",
       "      <td>38:46.3</td>\n",
       "      <td>NaN</td>\n",
       "      <td>NaN</td>\n",
       "      <td>37.40</td>\n",
       "      <td>-121.92</td>\n",
       "      <td>NaN</td>\n",
       "      <td>NaN</td>\n",
       "      <td>37.39</td>\n",
       "      <td>-121.93</td>\n",
       "      <td>4089</td>\n",
       "      <td>Subscriber</td>\n",
       "      <td>1984.0</td>\n",
       "      <td>Male</td>\n",
       "      <td>Yes</td>\n",
       "    </tr>\n",
       "    <tr>\n",
       "      <th>...</th>\n",
       "      <td>...</td>\n",
       "      <td>...</td>\n",
       "      <td>...</td>\n",
       "      <td>...</td>\n",
       "      <td>...</td>\n",
       "      <td>...</td>\n",
       "      <td>...</td>\n",
       "      <td>...</td>\n",
       "      <td>...</td>\n",
       "      <td>...</td>\n",
       "      <td>...</td>\n",
       "      <td>...</td>\n",
       "      <td>...</td>\n",
       "      <td>...</td>\n",
       "      <td>...</td>\n",
       "      <td>...</td>\n",
       "    </tr>\n",
       "    <tr>\n",
       "      <th>176154</th>\n",
       "      <td>1447</td>\n",
       "      <td>03:04.5</td>\n",
       "      <td>27:12.3</td>\n",
       "      <td>NaN</td>\n",
       "      <td>NaN</td>\n",
       "      <td>37.40</td>\n",
       "      <td>-121.93</td>\n",
       "      <td>NaN</td>\n",
       "      <td>NaN</td>\n",
       "      <td>37.40</td>\n",
       "      <td>-121.93</td>\n",
       "      <td>4249</td>\n",
       "      <td>Customer</td>\n",
       "      <td>1984.0</td>\n",
       "      <td>Male</td>\n",
       "      <td>No</td>\n",
       "    </tr>\n",
       "    <tr>\n",
       "      <th>179730</th>\n",
       "      <td>309</td>\n",
       "      <td>59:46.0</td>\n",
       "      <td>04:55.4</td>\n",
       "      <td>NaN</td>\n",
       "      <td>NaN</td>\n",
       "      <td>37.40</td>\n",
       "      <td>-121.94</td>\n",
       "      <td>NaN</td>\n",
       "      <td>NaN</td>\n",
       "      <td>37.40</td>\n",
       "      <td>-121.93</td>\n",
       "      <td>4249</td>\n",
       "      <td>Customer</td>\n",
       "      <td>1987.0</td>\n",
       "      <td>Female</td>\n",
       "      <td>No</td>\n",
       "    </tr>\n",
       "    <tr>\n",
       "      <th>179970</th>\n",
       "      <td>659</td>\n",
       "      <td>17:37.7</td>\n",
       "      <td>28:37.0</td>\n",
       "      <td>NaN</td>\n",
       "      <td>NaN</td>\n",
       "      <td>37.41</td>\n",
       "      <td>-121.96</td>\n",
       "      <td>NaN</td>\n",
       "      <td>NaN</td>\n",
       "      <td>37.41</td>\n",
       "      <td>-121.94</td>\n",
       "      <td>4092</td>\n",
       "      <td>Subscriber</td>\n",
       "      <td>1999.0</td>\n",
       "      <td>Female</td>\n",
       "      <td>No</td>\n",
       "    </tr>\n",
       "    <tr>\n",
       "      <th>180106</th>\n",
       "      <td>2013</td>\n",
       "      <td>33:55.1</td>\n",
       "      <td>07:28.9</td>\n",
       "      <td>NaN</td>\n",
       "      <td>NaN</td>\n",
       "      <td>37.40</td>\n",
       "      <td>-121.94</td>\n",
       "      <td>NaN</td>\n",
       "      <td>NaN</td>\n",
       "      <td>37.40</td>\n",
       "      <td>-121.94</td>\n",
       "      <td>4251</td>\n",
       "      <td>Customer</td>\n",
       "      <td>1990.0</td>\n",
       "      <td>Female</td>\n",
       "      <td>No</td>\n",
       "    </tr>\n",
       "    <tr>\n",
       "      <th>181201</th>\n",
       "      <td>312</td>\n",
       "      <td>26:34.8</td>\n",
       "      <td>31:46.9</td>\n",
       "      <td>NaN</td>\n",
       "      <td>NaN</td>\n",
       "      <td>37.40</td>\n",
       "      <td>-121.93</td>\n",
       "      <td>NaN</td>\n",
       "      <td>NaN</td>\n",
       "      <td>37.40</td>\n",
       "      <td>-121.93</td>\n",
       "      <td>4208</td>\n",
       "      <td>Subscriber</td>\n",
       "      <td>1987.0</td>\n",
       "      <td>Male</td>\n",
       "      <td>No</td>\n",
       "    </tr>\n",
       "  </tbody>\n",
       "</table>\n",
       "<p>197 rows × 16 columns</p>\n",
       "</div>"
      ],
      "text/plain": [
       "        duration_sec start_time end_time  start_station_id start_station_name  \\\n",
       "475             1709    55:53.9  24:23.7               NaN                NaN   \n",
       "1733            1272    32:34.3  53:46.7               NaN                NaN   \n",
       "3625             142    10:46.5  13:09.4               NaN                NaN   \n",
       "4070             585    28:45.9  38:31.3               NaN                NaN   \n",
       "5654             509    30:17.1  38:46.3               NaN                NaN   \n",
       "...              ...        ...      ...               ...                ...   \n",
       "176154          1447    03:04.5  27:12.3               NaN                NaN   \n",
       "179730           309    59:46.0  04:55.4               NaN                NaN   \n",
       "179970           659    17:37.7  28:37.0               NaN                NaN   \n",
       "180106          2013    33:55.1  07:28.9               NaN                NaN   \n",
       "181201           312    26:34.8  31:46.9               NaN                NaN   \n",
       "\n",
       "        start_station_latitude  start_station_longitude  end_station_id  \\\n",
       "475                      37.40                  -121.94             NaN   \n",
       "1733                     37.40                  -121.94             NaN   \n",
       "3625                     37.41                  -121.95             NaN   \n",
       "4070                     37.39                  -121.93             NaN   \n",
       "5654                     37.40                  -121.92             NaN   \n",
       "...                        ...                      ...             ...   \n",
       "176154                   37.40                  -121.93             NaN   \n",
       "179730                   37.40                  -121.94             NaN   \n",
       "179970                   37.41                  -121.96             NaN   \n",
       "180106                   37.40                  -121.94             NaN   \n",
       "181201                   37.40                  -121.93             NaN   \n",
       "\n",
       "       end_station_name  end_station_latitude  end_station_longitude  bike_id  \\\n",
       "475                 NaN                 37.40                -121.93     4211   \n",
       "1733                NaN                 37.41                -121.96     4174   \n",
       "3625                NaN                 37.41                -121.96     4283   \n",
       "4070                NaN                 37.40                -121.92     4089   \n",
       "5654                NaN                 37.39                -121.93     4089   \n",
       "...                 ...                   ...                    ...      ...   \n",
       "176154              NaN                 37.40                -121.93     4249   \n",
       "179730              NaN                 37.40                -121.93     4249   \n",
       "179970              NaN                 37.41                -121.94     4092   \n",
       "180106              NaN                 37.40                -121.94     4251   \n",
       "181201              NaN                 37.40                -121.93     4208   \n",
       "\n",
       "         user_type  member_birth_year member_gender bike_share_for_all_trip  \n",
       "475       Customer             1991.0        Female                      No  \n",
       "1733    Subscriber             1980.0          Male                      No  \n",
       "3625    Subscriber             1988.0          Male                      No  \n",
       "4070    Subscriber             1984.0          Male                     Yes  \n",
       "5654    Subscriber             1984.0          Male                     Yes  \n",
       "...            ...                ...           ...                     ...  \n",
       "176154    Customer             1984.0          Male                      No  \n",
       "179730    Customer             1987.0        Female                      No  \n",
       "179970  Subscriber             1999.0        Female                      No  \n",
       "180106    Customer             1990.0        Female                      No  \n",
       "181201  Subscriber             1987.0          Male                      No  \n",
       "\n",
       "[197 rows x 16 columns]"
      ]
     },
     "execution_count": 9,
     "metadata": {},
     "output_type": "execute_result"
    }
   ],
   "source": [
    "#Checking for null variables in the dataset\n",
    "fordGo_df[fordGo_df['end_station_name'].isna() == True]"
   ]
  },
  {
   "cell_type": "markdown",
   "metadata": {
    "slideshow": {
     "slide_type": "skip"
    }
   },
   "source": [
    ">The dataset has at least 197 rows of null values "
   ]
  },
  {
   "cell_type": "code",
   "execution_count": 10,
   "metadata": {
    "scrolled": true,
    "slideshow": {
     "slide_type": "skip"
    }
   },
   "outputs": [
    {
     "name": "stdout",
     "output_type": "stream",
     "text": [
      "<class 'pandas.core.frame.DataFrame'>\n",
      "RangeIndex: 183412 entries, 0 to 183411\n",
      "Data columns (total 16 columns):\n",
      " #   Column                   Non-Null Count   Dtype  \n",
      "---  ------                   --------------   -----  \n",
      " 0   duration_sec             183412 non-null  int64  \n",
      " 1   start_time               183412 non-null  object \n",
      " 2   end_time                 183412 non-null  object \n",
      " 3   start_station_id         183215 non-null  float64\n",
      " 4   start_station_name       183215 non-null  object \n",
      " 5   start_station_latitude   183412 non-null  float64\n",
      " 6   start_station_longitude  183412 non-null  float64\n",
      " 7   end_station_id           183215 non-null  float64\n",
      " 8   end_station_name         183215 non-null  object \n",
      " 9   end_station_latitude     183412 non-null  float64\n",
      " 10  end_station_longitude    183412 non-null  float64\n",
      " 11  bike_id                  183412 non-null  int64  \n",
      " 12  user_type                183412 non-null  object \n",
      " 13  member_birth_year        175147 non-null  float64\n",
      " 14  member_gender            175147 non-null  object \n",
      " 15  bike_share_for_all_trip  183412 non-null  object \n",
      "dtypes: float64(7), int64(2), object(7)\n",
      "memory usage: 22.4+ MB\n"
     ]
    }
   ],
   "source": [
    "fordGo_df.info()"
   ]
  },
  {
   "cell_type": "markdown",
   "metadata": {
    "slideshow": {
     "slide_type": "skip"
    }
   },
   "source": [
    "start_station_id, start_station_name, end_station_id, end_station_name, member_birth_year, and member_gender all have data with incomplete values "
   ]
  },
  {
   "cell_type": "code",
   "execution_count": 11,
   "metadata": {
    "scrolled": false,
    "slideshow": {
     "slide_type": "skip"
    }
   },
   "outputs": [
    {
     "data": {
      "text/plain": [
       "array([1878., 1900., 1901., 1902., 1910., 1920., 1927., 1928., 1930.,\n",
       "       1931., 1933., 1934., 1938., 1939., 1941., 1942., 1943., 1944.,\n",
       "       1945., 1946., 1947., 1948., 1949., 1950., 1951., 1952., 1953.,\n",
       "       1954., 1955., 1956., 1957., 1958., 1959., 1960., 1961., 1962.,\n",
       "       1963., 1964., 1965., 1966., 1967., 1968., 1969., 1970., 1971.,\n",
       "       1972., 1973., 1974., 1975., 1976., 1977., 1978., 1979., 1980.,\n",
       "       1981., 1982., 1983., 1984., 1985., 1986., 1987., 1988., 1989.,\n",
       "       1990., 1991., 1992., 1993., 1994., 1995., 1996., 1997., 1998.,\n",
       "       1999., 2000., 2001.,   nan])"
      ]
     },
     "execution_count": 11,
     "metadata": {},
     "output_type": "execute_result"
    }
   ],
   "source": [
    "# Checking for unique values in the member birth year to detect outliers \n",
    "np.sort(fordGo_df.member_birth_year.unique())"
   ]
  },
  {
   "cell_type": "markdown",
   "metadata": {
    "slideshow": {
     "slide_type": "skip"
    }
   },
   "source": [
    "1878., 1900., 1901., 1902., 1910., 1920., 1927., 1928., 1930. seems to be outliers in this dataset"
   ]
  },
  {
   "cell_type": "code",
   "execution_count": 12,
   "metadata": {
    "scrolled": true,
    "slideshow": {
     "slide_type": "skip"
    }
   },
   "outputs": [
    {
     "data": {
      "text/plain": [
       "1954.0    301\n",
       "1952.0    189\n",
       "1951.0    180\n",
       "1950.0    178\n",
       "1953.0    158\n",
       "1947.0    135\n",
       "1955.0    134\n",
       "1945.0    105\n",
       "1949.0     99\n",
       "1931.0     89\n",
       "1900.0     53\n",
       "1948.0     51\n",
       "2001.0     34\n",
       "1943.0     30\n",
       "1942.0     21\n",
       "1933.0     20\n",
       "1946.0     19\n",
       "1939.0     11\n",
       "1902.0     11\n",
       "1941.0      9\n",
       "1901.0      6\n",
       "1938.0      3\n",
       "1920.0      3\n",
       "1944.0      2\n",
       "1934.0      2\n",
       "1928.0      1\n",
       "1927.0      1\n",
       "1910.0      1\n",
       "1930.0      1\n",
       "1878.0      1\n",
       "Name: member_birth_year, dtype: int64"
      ]
     },
     "execution_count": 12,
     "metadata": {},
     "output_type": "execute_result"
    }
   ],
   "source": [
    "#further exaamining the member_birth_year\n",
    "fordGo_df.member_birth_year.value_counts().tail(30)"
   ]
  },
  {
   "cell_type": "code",
   "execution_count": 13,
   "metadata": {
    "slideshow": {
     "slide_type": "skip"
    }
   },
   "outputs": [],
   "source": [
    "# Checking for duplicates in dataset\n",
    "assert fordGo_df.duplicated().sum() == 0"
   ]
  },
  {
   "cell_type": "markdown",
   "metadata": {
    "slideshow": {
     "slide_type": "skip"
    }
   },
   "source": [
    "There is no duplicate rows in the dataset"
   ]
  },
  {
   "cell_type": "code",
   "execution_count": 14,
   "metadata": {
    "slideshow": {
     "slide_type": "skip"
    }
   },
   "outputs": [],
   "source": [
    "# make a copy of the dataset for further investigation\n",
    "clean_fordGo_df = fordGo_df.copy()"
   ]
  },
  {
   "cell_type": "markdown",
   "metadata": {
    "slideshow": {
     "slide_type": "skip"
    }
   },
   "source": [
    "### Quality issues"
   ]
  },
  {
   "cell_type": "markdown",
   "metadata": {
    "slideshow": {
     "slide_type": "skip"
    }
   },
   "source": [
    "1. start_station_id is float instead of int\n",
    "2. end_station_id is float instead of int\n",
    "3. member_birth_year is float instead of int\n",
    "4. Dataset contains missing data\n",
    "5. The time format for start_time, end_time are not correct"
   ]
  },
  {
   "cell_type": "markdown",
   "metadata": {
    "slideshow": {
     "slide_type": "skip"
    }
   },
   "source": [
    "### Tidieness issues"
   ]
  },
  {
   "cell_type": "markdown",
   "metadata": {
    "slideshow": {
     "slide_type": "skip"
    }
   },
   "source": [
    "1. There are some variables that are not needed in this exploration\n",
    "2. The start_time and the end_time needs to be dropped "
   ]
  },
  {
   "cell_type": "markdown",
   "metadata": {
    "slideshow": {
     "slide_type": "skip"
    }
   },
   "source": [
    "# Cleaning dataset"
   ]
  },
  {
   "cell_type": "markdown",
   "metadata": {
    "slideshow": {
     "slide_type": "skip"
    }
   },
   "source": [
    "#### Define \n",
    "Create a column with age range"
   ]
  },
  {
   "cell_type": "markdown",
   "metadata": {
    "slideshow": {
     "slide_type": "skip"
    }
   },
   "source": [
    "#### Code"
   ]
  },
  {
   "cell_type": "code",
   "execution_count": 15,
   "metadata": {
    "slideshow": {
     "slide_type": "skip"
    }
   },
   "outputs": [],
   "source": [
    "# Create age range for user data\n",
    "bins = [1870, 1940, 1950, 1960, 1970, 1980, 1990, 2002]\n",
    "age_range = [\"80\", '70', '60', '50', '40', '30', '20s']\n",
    "clean_fordGo_df['age_range'] = pd.cut(clean_fordGo_df.member_birth_year, bins, labels=age_range)"
   ]
  },
  {
   "cell_type": "markdown",
   "metadata": {
    "slideshow": {
     "slide_type": "skip"
    }
   },
   "source": [
    "#### test"
   ]
  },
  {
   "cell_type": "code",
   "execution_count": 16,
   "metadata": {
    "scrolled": true,
    "slideshow": {
     "slide_type": "skip"
    }
   },
   "outputs": [
    {
     "data": {
      "text/plain": [
       "Index(['duration_sec', 'start_time', 'end_time', 'start_station_id',\n",
       "       'start_station_name', 'start_station_latitude',\n",
       "       'start_station_longitude', 'end_station_id', 'end_station_name',\n",
       "       'end_station_latitude', 'end_station_longitude', 'bike_id', 'user_type',\n",
       "       'member_birth_year', 'member_gender', 'bike_share_for_all_trip',\n",
       "       'age_range'],\n",
       "      dtype='object')"
      ]
     },
     "execution_count": 16,
     "metadata": {},
     "output_type": "execute_result"
    }
   ],
   "source": [
    "clean_fordGo_df.columns"
   ]
  },
  {
   "cell_type": "markdown",
   "metadata": {
    "slideshow": {
     "slide_type": "skip"
    }
   },
   "source": [
    "#### Define\n",
    "Drop unnecessary variables "
   ]
  },
  {
   "cell_type": "markdown",
   "metadata": {
    "slideshow": {
     "slide_type": "skip"
    }
   },
   "source": [
    "#### Code"
   ]
  },
  {
   "cell_type": "code",
   "execution_count": 17,
   "metadata": {
    "slideshow": {
     "slide_type": "skip"
    }
   },
   "outputs": [],
   "source": [
    "drop_columns = ['start_time', 'end_time', 'start_station_latitude',\n",
    "       'start_station_longitude', 'end_station_latitude', 'end_station_longitude', 'bike_id']\n",
    "clean_fordGo_df.drop(drop_columns, axis=1, inplace=True)"
   ]
  },
  {
   "cell_type": "markdown",
   "metadata": {
    "slideshow": {
     "slide_type": "skip"
    }
   },
   "source": [
    "#### Test"
   ]
  },
  {
   "cell_type": "code",
   "execution_count": 18,
   "metadata": {
    "scrolled": false,
    "slideshow": {
     "slide_type": "skip"
    }
   },
   "outputs": [
    {
     "data": {
      "text/plain": [
       "Index(['duration_sec', 'start_station_id', 'start_station_name',\n",
       "       'end_station_id', 'end_station_name', 'user_type', 'member_birth_year',\n",
       "       'member_gender', 'bike_share_for_all_trip', 'age_range'],\n",
       "      dtype='object')"
      ]
     },
     "execution_count": 18,
     "metadata": {},
     "output_type": "execute_result"
    }
   ],
   "source": [
    "clean_fordGo_df.columns"
   ]
  },
  {
   "cell_type": "markdown",
   "metadata": {
    "slideshow": {
     "slide_type": "skip"
    }
   },
   "source": [
    "#### Define \n",
    "drop rows with missing values "
   ]
  },
  {
   "cell_type": "code",
   "execution_count": 19,
   "metadata": {
    "slideshow": {
     "slide_type": "skip"
    }
   },
   "outputs": [
    {
     "data": {
      "text/html": [
       "<div>\n",
       "<style scoped>\n",
       "    .dataframe tbody tr th:only-of-type {\n",
       "        vertical-align: middle;\n",
       "    }\n",
       "\n",
       "    .dataframe tbody tr th {\n",
       "        vertical-align: top;\n",
       "    }\n",
       "\n",
       "    .dataframe thead th {\n",
       "        text-align: right;\n",
       "    }\n",
       "</style>\n",
       "<table border=\"1\" class=\"dataframe\">\n",
       "  <thead>\n",
       "    <tr style=\"text-align: right;\">\n",
       "      <th></th>\n",
       "      <th>duration_sec</th>\n",
       "      <th>start_station_id</th>\n",
       "      <th>start_station_name</th>\n",
       "      <th>end_station_id</th>\n",
       "      <th>end_station_name</th>\n",
       "      <th>user_type</th>\n",
       "      <th>member_birth_year</th>\n",
       "      <th>member_gender</th>\n",
       "      <th>bike_share_for_all_trip</th>\n",
       "      <th>age_range</th>\n",
       "    </tr>\n",
       "  </thead>\n",
       "  <tbody>\n",
       "    <tr>\n",
       "      <th>1</th>\n",
       "      <td>42521</td>\n",
       "      <td>23.0</td>\n",
       "      <td>The Embarcadero at Steuart St</td>\n",
       "      <td>81.0</td>\n",
       "      <td>Berry St at 4th St</td>\n",
       "      <td>Customer</td>\n",
       "      <td>NaN</td>\n",
       "      <td>NaN</td>\n",
       "      <td>No</td>\n",
       "      <td>NaN</td>\n",
       "    </tr>\n",
       "    <tr>\n",
       "      <th>13</th>\n",
       "      <td>915</td>\n",
       "      <td>252.0</td>\n",
       "      <td>Channing Way at Shattuck Ave</td>\n",
       "      <td>244.0</td>\n",
       "      <td>Shattuck Ave at Hearst Ave</td>\n",
       "      <td>Subscriber</td>\n",
       "      <td>NaN</td>\n",
       "      <td>NaN</td>\n",
       "      <td>No</td>\n",
       "      <td>NaN</td>\n",
       "    </tr>\n",
       "    <tr>\n",
       "      <th>28</th>\n",
       "      <td>650</td>\n",
       "      <td>258.0</td>\n",
       "      <td>University Ave at Oxford St</td>\n",
       "      <td>263.0</td>\n",
       "      <td>Channing Way at San Pablo Ave</td>\n",
       "      <td>Customer</td>\n",
       "      <td>NaN</td>\n",
       "      <td>NaN</td>\n",
       "      <td>No</td>\n",
       "      <td>NaN</td>\n",
       "    </tr>\n",
       "    <tr>\n",
       "      <th>53</th>\n",
       "      <td>3418</td>\n",
       "      <td>11.0</td>\n",
       "      <td>Davis St at Jackson St</td>\n",
       "      <td>11.0</td>\n",
       "      <td>Davis St at Jackson St</td>\n",
       "      <td>Customer</td>\n",
       "      <td>NaN</td>\n",
       "      <td>NaN</td>\n",
       "      <td>No</td>\n",
       "      <td>NaN</td>\n",
       "    </tr>\n",
       "    <tr>\n",
       "      <th>65</th>\n",
       "      <td>926</td>\n",
       "      <td>13.0</td>\n",
       "      <td>Commercial St at Montgomery St</td>\n",
       "      <td>81.0</td>\n",
       "      <td>Berry St at 4th St</td>\n",
       "      <td>Subscriber</td>\n",
       "      <td>NaN</td>\n",
       "      <td>NaN</td>\n",
       "      <td>No</td>\n",
       "      <td>NaN</td>\n",
       "    </tr>\n",
       "    <tr>\n",
       "      <th>...</th>\n",
       "      <td>...</td>\n",
       "      <td>...</td>\n",
       "      <td>...</td>\n",
       "      <td>...</td>\n",
       "      <td>...</td>\n",
       "      <td>...</td>\n",
       "      <td>...</td>\n",
       "      <td>...</td>\n",
       "      <td>...</td>\n",
       "      <td>...</td>\n",
       "    </tr>\n",
       "    <tr>\n",
       "      <th>183354</th>\n",
       "      <td>449</td>\n",
       "      <td>244.0</td>\n",
       "      <td>Shattuck Ave at Hearst Ave</td>\n",
       "      <td>253.0</td>\n",
       "      <td>Haste St at College Ave</td>\n",
       "      <td>Customer</td>\n",
       "      <td>NaN</td>\n",
       "      <td>NaN</td>\n",
       "      <td>No</td>\n",
       "      <td>NaN</td>\n",
       "    </tr>\n",
       "    <tr>\n",
       "      <th>183356</th>\n",
       "      <td>795</td>\n",
       "      <td>368.0</td>\n",
       "      <td>Myrtle St at Polk St</td>\n",
       "      <td>125.0</td>\n",
       "      <td>20th St at Bryant St</td>\n",
       "      <td>Subscriber</td>\n",
       "      <td>NaN</td>\n",
       "      <td>NaN</td>\n",
       "      <td>No</td>\n",
       "      <td>NaN</td>\n",
       "    </tr>\n",
       "    <tr>\n",
       "      <th>183363</th>\n",
       "      <td>673</td>\n",
       "      <td>75.0</td>\n",
       "      <td>Market St at Franklin St</td>\n",
       "      <td>133.0</td>\n",
       "      <td>Valencia St at 22nd St</td>\n",
       "      <td>Customer</td>\n",
       "      <td>NaN</td>\n",
       "      <td>NaN</td>\n",
       "      <td>No</td>\n",
       "      <td>NaN</td>\n",
       "    </tr>\n",
       "    <tr>\n",
       "      <th>183371</th>\n",
       "      <td>196</td>\n",
       "      <td>58.0</td>\n",
       "      <td>Market St at 10th St</td>\n",
       "      <td>75.0</td>\n",
       "      <td>Market St at Franklin St</td>\n",
       "      <td>Customer</td>\n",
       "      <td>NaN</td>\n",
       "      <td>NaN</td>\n",
       "      <td>No</td>\n",
       "      <td>NaN</td>\n",
       "    </tr>\n",
       "    <tr>\n",
       "      <th>183402</th>\n",
       "      <td>122</td>\n",
       "      <td>119.0</td>\n",
       "      <td>18th St at Noe St</td>\n",
       "      <td>120.0</td>\n",
       "      <td>Mission Dolores Park</td>\n",
       "      <td>Subscriber</td>\n",
       "      <td>NaN</td>\n",
       "      <td>NaN</td>\n",
       "      <td>No</td>\n",
       "      <td>NaN</td>\n",
       "    </tr>\n",
       "  </tbody>\n",
       "</table>\n",
       "<p>8265 rows × 10 columns</p>\n",
       "</div>"
      ],
      "text/plain": [
       "        duration_sec  start_station_id              start_station_name  \\\n",
       "1              42521              23.0   The Embarcadero at Steuart St   \n",
       "13               915             252.0    Channing Way at Shattuck Ave   \n",
       "28               650             258.0     University Ave at Oxford St   \n",
       "53              3418              11.0          Davis St at Jackson St   \n",
       "65               926              13.0  Commercial St at Montgomery St   \n",
       "...              ...               ...                             ...   \n",
       "183354           449             244.0      Shattuck Ave at Hearst Ave   \n",
       "183356           795             368.0            Myrtle St at Polk St   \n",
       "183363           673              75.0        Market St at Franklin St   \n",
       "183371           196              58.0            Market St at 10th St   \n",
       "183402           122             119.0               18th St at Noe St   \n",
       "\n",
       "        end_station_id               end_station_name   user_type  \\\n",
       "1                 81.0             Berry St at 4th St    Customer   \n",
       "13               244.0     Shattuck Ave at Hearst Ave  Subscriber   \n",
       "28               263.0  Channing Way at San Pablo Ave    Customer   \n",
       "53                11.0         Davis St at Jackson St    Customer   \n",
       "65                81.0             Berry St at 4th St  Subscriber   \n",
       "...                ...                            ...         ...   \n",
       "183354           253.0        Haste St at College Ave    Customer   \n",
       "183356           125.0           20th St at Bryant St  Subscriber   \n",
       "183363           133.0         Valencia St at 22nd St    Customer   \n",
       "183371            75.0       Market St at Franklin St    Customer   \n",
       "183402           120.0           Mission Dolores Park  Subscriber   \n",
       "\n",
       "        member_birth_year member_gender bike_share_for_all_trip age_range  \n",
       "1                     NaN           NaN                      No       NaN  \n",
       "13                    NaN           NaN                      No       NaN  \n",
       "28                    NaN           NaN                      No       NaN  \n",
       "53                    NaN           NaN                      No       NaN  \n",
       "65                    NaN           NaN                      No       NaN  \n",
       "...                   ...           ...                     ...       ...  \n",
       "183354                NaN           NaN                      No       NaN  \n",
       "183356                NaN           NaN                      No       NaN  \n",
       "183363                NaN           NaN                      No       NaN  \n",
       "183371                NaN           NaN                      No       NaN  \n",
       "183402                NaN           NaN                      No       NaN  \n",
       "\n",
       "[8265 rows x 10 columns]"
      ]
     },
     "execution_count": 19,
     "metadata": {},
     "output_type": "execute_result"
    }
   ],
   "source": [
    "clean_fordGo_df[clean_fordGo_df['member_birth_year'].isnull() == True]\n"
   ]
  },
  {
   "cell_type": "code",
   "execution_count": 20,
   "metadata": {
    "slideshow": {
     "slide_type": "skip"
    }
   },
   "outputs": [],
   "source": [
    "clean_fordGo_df = clean_fordGo_df.dropna()"
   ]
  },
  {
   "cell_type": "markdown",
   "metadata": {
    "slideshow": {
     "slide_type": "skip"
    }
   },
   "source": [
    "#### Test"
   ]
  },
  {
   "cell_type": "code",
   "execution_count": 21,
   "metadata": {
    "slideshow": {
     "slide_type": "skip"
    }
   },
   "outputs": [
    {
     "data": {
      "text/html": [
       "<div>\n",
       "<style scoped>\n",
       "    .dataframe tbody tr th:only-of-type {\n",
       "        vertical-align: middle;\n",
       "    }\n",
       "\n",
       "    .dataframe tbody tr th {\n",
       "        vertical-align: top;\n",
       "    }\n",
       "\n",
       "    .dataframe thead th {\n",
       "        text-align: right;\n",
       "    }\n",
       "</style>\n",
       "<table border=\"1\" class=\"dataframe\">\n",
       "  <thead>\n",
       "    <tr style=\"text-align: right;\">\n",
       "      <th></th>\n",
       "      <th>duration_sec</th>\n",
       "      <th>start_station_id</th>\n",
       "      <th>start_station_name</th>\n",
       "      <th>end_station_id</th>\n",
       "      <th>end_station_name</th>\n",
       "      <th>user_type</th>\n",
       "      <th>member_birth_year</th>\n",
       "      <th>member_gender</th>\n",
       "      <th>bike_share_for_all_trip</th>\n",
       "      <th>age_range</th>\n",
       "    </tr>\n",
       "  </thead>\n",
       "  <tbody>\n",
       "  </tbody>\n",
       "</table>\n",
       "</div>"
      ],
      "text/plain": [
       "Empty DataFrame\n",
       "Columns: [duration_sec, start_station_id, start_station_name, end_station_id, end_station_name, user_type, member_birth_year, member_gender, bike_share_for_all_trip, age_range]\n",
       "Index: []"
      ]
     },
     "execution_count": 21,
     "metadata": {},
     "output_type": "execute_result"
    }
   ],
   "source": [
    "clean_fordGo_df[clean_fordGo_df['member_birth_year'].isnull() == True]"
   ]
  },
  {
   "cell_type": "code",
   "execution_count": 22,
   "metadata": {
    "slideshow": {
     "slide_type": "skip"
    }
   },
   "outputs": [
    {
     "data": {
      "text/html": [
       "<div>\n",
       "<style scoped>\n",
       "    .dataframe tbody tr th:only-of-type {\n",
       "        vertical-align: middle;\n",
       "    }\n",
       "\n",
       "    .dataframe tbody tr th {\n",
       "        vertical-align: top;\n",
       "    }\n",
       "\n",
       "    .dataframe thead th {\n",
       "        text-align: right;\n",
       "    }\n",
       "</style>\n",
       "<table border=\"1\" class=\"dataframe\">\n",
       "  <thead>\n",
       "    <tr style=\"text-align: right;\">\n",
       "      <th></th>\n",
       "      <th>duration_sec</th>\n",
       "      <th>start_station_id</th>\n",
       "      <th>start_station_name</th>\n",
       "      <th>end_station_id</th>\n",
       "      <th>end_station_name</th>\n",
       "      <th>user_type</th>\n",
       "      <th>member_birth_year</th>\n",
       "      <th>member_gender</th>\n",
       "      <th>bike_share_for_all_trip</th>\n",
       "      <th>age_range</th>\n",
       "    </tr>\n",
       "  </thead>\n",
       "  <tbody>\n",
       "  </tbody>\n",
       "</table>\n",
       "</div>"
      ],
      "text/plain": [
       "Empty DataFrame\n",
       "Columns: [duration_sec, start_station_id, start_station_name, end_station_id, end_station_name, user_type, member_birth_year, member_gender, bike_share_for_all_trip, age_range]\n",
       "Index: []"
      ]
     },
     "execution_count": 22,
     "metadata": {},
     "output_type": "execute_result"
    }
   ],
   "source": [
    "clean_fordGo_df[clean_fordGo_df['member_gender'].isnull() == True]"
   ]
  },
  {
   "cell_type": "markdown",
   "metadata": {
    "slideshow": {
     "slide_type": "skip"
    }
   },
   "source": [
    "#### Define \n",
    "Change `duration_sec` and `member_birth_year` to integer"
   ]
  },
  {
   "cell_type": "markdown",
   "metadata": {
    "slideshow": {
     "slide_type": "skip"
    }
   },
   "source": [
    "#### Code"
   ]
  },
  {
   "cell_type": "code",
   "execution_count": 23,
   "metadata": {
    "slideshow": {
     "slide_type": "skip"
    }
   },
   "outputs": [],
   "source": [
    "type_change = ['duration_sec' , 'member_birth_year' ]\n",
    "for t in type_change:\n",
    "    clean_fordGo_df[t] = clean_fordGo_df[t].astype('int')\n",
    "# Format start_time and end_time to time object\n",
    "    "
   ]
  },
  {
   "cell_type": "markdown",
   "metadata": {
    "slideshow": {
     "slide_type": "skip"
    }
   },
   "source": [
    "#### Test"
   ]
  },
  {
   "cell_type": "code",
   "execution_count": 24,
   "metadata": {
    "slideshow": {
     "slide_type": "skip"
    }
   },
   "outputs": [
    {
     "data": {
      "text/plain": [
       "duration_sec                  int32\n",
       "start_station_id            float64\n",
       "start_station_name           object\n",
       "end_station_id              float64\n",
       "end_station_name             object\n",
       "user_type                    object\n",
       "member_birth_year             int32\n",
       "member_gender                object\n",
       "bike_share_for_all_trip      object\n",
       "age_range                  category\n",
       "dtype: object"
      ]
     },
     "execution_count": 24,
     "metadata": {},
     "output_type": "execute_result"
    }
   ],
   "source": [
    "clean_fordGo_df.dtypes"
   ]
  },
  {
   "cell_type": "markdown",
   "metadata": {
    "slideshow": {
     "slide_type": "skip"
    }
   },
   "source": [
    "#### Define\n",
    "Convert `member_gender` and `bike_share_for_all_trip` from object data type to category"
   ]
  },
  {
   "cell_type": "markdown",
   "metadata": {
    "slideshow": {
     "slide_type": "skip"
    }
   },
   "source": [
    "#### Code"
   ]
  },
  {
   "cell_type": "code",
   "execution_count": 25,
   "metadata": {
    "slideshow": {
     "slide_type": "skip"
    }
   },
   "outputs": [
    {
     "data": {
      "text/plain": [
       "array(['No', 'Yes'], dtype=object)"
      ]
     },
     "execution_count": 25,
     "metadata": {},
     "output_type": "execute_result"
    }
   ],
   "source": [
    "clean_fordGo_df.bike_share_for_all_trip.unique()"
   ]
  },
  {
   "cell_type": "code",
   "execution_count": 26,
   "metadata": {
    "slideshow": {
     "slide_type": "skip"
    }
   },
   "outputs": [],
   "source": [
    "gender_category = pd.api.types.CategoricalDtype(['Male', 'Female','Other'], ordered=True)\n",
    "trip_category = pd.api.types.CategoricalDtype(['Yes', 'No'], ordered=True)\n",
    "category_type = {'member_gender':gender_category, 'bike_share_for_all_trip':trip_category}\n",
    "for key, value in category_type.items():\n",
    "    clean_fordGo_df[key] = clean_fordGo_df[key].astype(value)\n",
    "    "
   ]
  },
  {
   "cell_type": "markdown",
   "metadata": {
    "slideshow": {
     "slide_type": "skip"
    }
   },
   "source": [
    "#### Test"
   ]
  },
  {
   "cell_type": "code",
   "execution_count": 27,
   "metadata": {
    "slideshow": {
     "slide_type": "skip"
    }
   },
   "outputs": [
    {
     "data": {
      "text/plain": [
       "duration_sec                  int32\n",
       "start_station_id            float64\n",
       "start_station_name           object\n",
       "end_station_id              float64\n",
       "end_station_name             object\n",
       "user_type                    object\n",
       "member_birth_year             int32\n",
       "member_gender              category\n",
       "bike_share_for_all_trip    category\n",
       "age_range                  category\n",
       "dtype: object"
      ]
     },
     "execution_count": 27,
     "metadata": {},
     "output_type": "execute_result"
    }
   ],
   "source": [
    "clean_fordGo_df.dtypes"
   ]
  },
  {
   "cell_type": "markdown",
   "metadata": {
    "slideshow": {
     "slide_type": "slide"
    }
   },
   "source": [
    "### What is the structure of your dataset?\n",
    "\n",
    "> The dataset has a total of 183412 rows and 16 columns. It contains the following variables:\n",
    "\n",
    "* start_time, end_time, start_station_name, end_station_name, user_type, member_gender and bike_share_for_all_trip, which are all object type\n",
    "* start_station_id, start_station_latitude, start_station_longitude, end_station_latitude, end_station_longitude, member_birth_year, member_gender and bike_share_for_all_trip which are objects\n",
    "* duration_sec and bike_id are integer\n",
    "\n"
   ]
  },
  {
   "cell_type": "markdown",
   "metadata": {
    "slideshow": {
     "slide_type": "subslide"
    }
   },
   "source": [
    "### What is/are the main feature(s) of interest in your dataset?\n",
    "\n",
    "> Analysis in this project will focus on factors that determines the duration of ride\n",
    "\n",
    "### What features in the dataset do you think will help support your investigation into your feature(s) of interest?\n",
    "\n",
    "> The duration_sec, station_name, and user_type, member_birth_year, member_gender and bike_share_for_all_trip will be very pivotal for the analysis of this dataset"
   ]
  },
  {
   "cell_type": "markdown",
   "metadata": {
    "slideshow": {
     "slide_type": "slide"
    }
   },
   "source": [
    "## Univariate Exploration\n"
   ]
  },
  {
   "cell_type": "markdown",
   "metadata": {
    "slideshow": {
     "slide_type": "skip"
    }
   },
   "source": [
    "## Univariate Exploration\n",
    "\n",
    "> In this section, investigate distributions of individual variables. If\n",
    "you see unusual points or outliers, take a deeper look to clean things up\n",
    "and prepare yourself to look at relationships between variables.\n",
    "\n",
    "\n",
    "> **Rubric Tip**: The project (Parts I alone) should have at least 15 visualizations distributed over univariate, bivariate, and multivariate plots to explore many relationships in the data set.  Use reasoning to justify the flow of the exploration.\n",
    "\n",
    "\n",
    "\n",
    ">**Rubric Tip**: Use the \"Question-Visualization-Observations\" framework  throughout the exploration. This framework involves **asking a question from the data, creating a visualization to find answers, and then recording observations after each visualisation.** \n"
   ]
  },
  {
   "cell_type": "markdown",
   "metadata": {
    "slideshow": {
     "slide_type": "slide"
    }
   },
   "source": [
    "### Question\n",
    "###### How long does the average trip take?\n",
    "Check the distribution of the duration_sec"
   ]
  },
  {
   "cell_type": "code",
   "execution_count": 28,
   "metadata": {
    "scrolled": true,
    "slideshow": {
     "slide_type": "subslide"
    }
   },
   "outputs": [
    {
     "data": {
      "image/png": "[encoded data removed]",
      "text/plain": [
       "<Figure size 432x288 with 1 Axes>"
      ]
     },
     "metadata": {
      "needs_background": "light"
     },
     "output_type": "display_data"
    }
   ],
   "source": [
    "sb.boxplot(data=clean_fordGo_df, x='duration_sec');\n",
    "plt.xlim(0, 2000)\n",
    "plt.title('The qurtile of trip duration');"
   ]
  },
  {
   "cell_type": "markdown",
   "metadata": {
    "slideshow": {
     "slide_type": "subslide"
    }
   },
   "source": [
    "> The mean duration for all trips is 500 seconds "
   ]
  },
  {
   "cell_type": "code",
   "execution_count": 29,
   "metadata": {
    "slideshow": {
     "slide_type": "skip"
    }
   },
   "outputs": [
    {
     "data": {
      "image/png": "[encoded data removed]",
      "text/plain": [
       "<Figure size 432x288 with 1 Axes>"
      ]
     },
     "metadata": {
      "needs_background": "light"
     },
     "output_type": "display_data"
    }
   ],
   "source": [
    "sb.histplot(data=clean_fordGo_df, x='duration_sec')\n",
    "plt.xlim(0, 2000)\n",
    "plt.title('The histogram distribution of trip duration');"
   ]
  },
  {
   "cell_type": "markdown",
   "metadata": {
    "slideshow": {
     "slide_type": "skip"
    }
   },
   "source": [
    "* The histogram is right skewed, showing that there might be some outliers on the right."
   ]
  },
  {
   "cell_type": "code",
   "execution_count": 30,
   "metadata": {
    "slideshow": {
     "slide_type": "subslide"
    }
   },
   "outputs": [
    {
     "data": {
      "image/png": "[encoded data removed]",
      "text/plain": [
       "<Figure size 864x360 with 1 Axes>"
      ]
     },
     "metadata": {
      "needs_background": "light"
     },
     "output_type": "display_data"
    }
   ],
   "source": [
    "log_binsize = 0.05\n",
    "log_bins = 10 ** np.arange(2.4, np.log10(clean_fordGo_df['duration_sec'].max()) + log_binsize, log_binsize)\n",
    "\n",
    "plt.figure(figsize=[12, 5])\n",
    "plt.hist(data = clean_fordGo_df, x = 'duration_sec', bins = log_bins)\n",
    "plt.title('Distribution of Trip Durations')\n",
    "plt.xlabel('Duration (sec)')\n",
    "plt.ylabel('Number of Trips')\n",
    "plt.xscale('log')\n",
    "plt.xticks([500, 1e3, 2e3, 5e3, 1e4], [500, '1k', '2k', '5k', '10k'])\n",
    "plt.axis([245, 15000, 0, 15000])\n",
    "plt.show()"
   ]
  },
  {
   "cell_type": "markdown",
   "metadata": {
    "slideshow": {
     "slide_type": "subslide"
    }
   },
   "source": [
    "* The distribution shows that most trips takes about 250 to 750 seconds \n",
    "* The histogram is right skewed, showing that there might be some outliers on the right."
   ]
  },
  {
   "cell_type": "markdown",
   "metadata": {
    "slideshow": {
     "slide_type": "skip"
    }
   },
   "source": [
    "### Question\n",
    "##### What is the distribution of different genders in the dataset"
   ]
  },
  {
   "cell_type": "code",
   "execution_count": 31,
   "metadata": {
    "scrolled": true,
    "slideshow": {
     "slide_type": "skip"
    }
   },
   "outputs": [
    {
     "data": {
      "image/png": "[encoded data removed]",
      "text/plain": [
       "<Figure size 432x288 with 1 Axes>"
      ]
     },
     "metadata": {
      "needs_background": "light"
     },
     "output_type": "display_data"
    }
   ],
   "source": [
    "base_color = sb.color_palette()[0]\n",
    "sb.countplot(data=clean_fordGo_df, x='member_gender', color=base_color, order=['Male', 'Female', 'Other'])\n",
    "plt.xlabel('Gender')\n",
    "plt.title('Number of each gender in the dataset');"
   ]
  },
  {
   "cell_type": "markdown",
   "metadata": {
    "slideshow": {
     "slide_type": "skip"
    }
   },
   "source": [
    "* There are more Male in the dataset \n",
    "* More than 120,000 users are male, about 40,000 are female and less than 20,000 are others "
   ]
  },
  {
   "cell_type": "code",
   "execution_count": 32,
   "metadata": {
    "slideshow": {
     "slide_type": "skip"
    }
   },
   "outputs": [
    {
     "data": {
      "image/png": "[encoded data removed]",
      "text/plain": [
       "<Figure size 432x288 with 1 Axes>"
      ]
     },
     "metadata": {
      "needs_background": "light"
     },
     "output_type": "display_data"
    }
   ],
   "source": [
    "gender_percent = clean_fordGo_df.member_gender.value_counts(normalize=True)\n",
    "gender_percent.plot(kind='bar')\n",
    "plt.xlabel('Gender')\n",
    "plt.ylabel('Percentage of total population')\n",
    "plt.title('Percentage of each gender in the total population')\n",
    "plt.xticks(rotation=0);"
   ]
  },
  {
   "cell_type": "markdown",
   "metadata": {
    "slideshow": {
     "slide_type": "skip"
    }
   },
   "source": [
    "* More than 70% of the dataset is male, about 20% are female while others takes the rest of the dasat"
   ]
  },
  {
   "cell_type": "markdown",
   "metadata": {
    "slideshow": {
     "slide_type": "skip"
    }
   },
   "source": [
    "### Question\n",
    "##### Which of the user_type use bike share more"
   ]
  },
  {
   "cell_type": "code",
   "execution_count": 33,
   "metadata": {
    "scrolled": true,
    "slideshow": {
     "slide_type": "skip"
    }
   },
   "outputs": [
    {
     "data": {
      "image/png": "[encoded data removed]",
      "text/plain": [
       "<Figure size 432x288 with 1 Axes>"
      ]
     },
     "metadata": {
      "needs_background": "light"
     },
     "output_type": "display_data"
    }
   ],
   "source": [
    "user_percent = clean_fordGo_df.user_type.value_counts(normalize=True)\n",
    "user_percent.plot(kind='bar')\n",
    "plt.xlabel('User Type')\n",
    "plt.ylabel('Percentage of total population')\n",
    "plt.title('Percentage of each user_type in the total population')\n",
    "plt.xticks(rotation=0);\n"
   ]
  },
  {
   "cell_type": "markdown",
   "metadata": {
    "slideshow": {
     "slide_type": "skip"
    }
   },
   "source": [
    "* The subscribers use the bike share more than the customers, they have more than 90% of the total population "
   ]
  },
  {
   "cell_type": "markdown",
   "metadata": {
    "slideshow": {
     "slide_type": "skip"
    }
   },
   "source": [
    "### Question\n",
    "###### How often does users use the bike sare for all trips "
   ]
  },
  {
   "cell_type": "code",
   "execution_count": 34,
   "metadata": {
    "scrolled": false,
    "slideshow": {
     "slide_type": "skip"
    }
   },
   "outputs": [
    {
     "data": {
      "image/png": "[encoded data removed]",
      "text/plain": [
       "<Figure size 432x288 with 1 Axes>"
      ]
     },
     "metadata": {
      "needs_background": "light"
     },
     "output_type": "display_data"
    }
   ],
   "source": [
    "share_percent = clean_fordGo_df.bike_share_for_all_trip.value_counts(normalize=True)\n",
    "share_percent.plot(kind='bar')\n",
    "plt.xlabel('Bike share for all trip')\n",
    "plt.ylabel('Percentage of total population')\n",
    "plt.title('Graph showing those that use bike share from first mile to last mile')\n",
    "plt.xticks(rotation=0);\n",
    "\n"
   ]
  },
  {
   "cell_type": "markdown",
   "metadata": {
    "slideshow": {
     "slide_type": "skip"
    }
   },
   "source": [
    "* More than 90% of the trips are not shared for all trips. Therefore, they are majorly used as last mile means of transportation"
   ]
  },
  {
   "cell_type": "markdown",
   "metadata": {
    "slideshow": {
     "slide_type": "skip"
    }
   },
   "source": [
    "### Question\n",
    "###### Which age group is known for using bike share"
   ]
  },
  {
   "cell_type": "code",
   "execution_count": 35,
   "metadata": {
    "scrolled": true,
    "slideshow": {
     "slide_type": "skip"
    }
   },
   "outputs": [
    {
     "data": {
      "image/png": "[encoded data removed]",
      "text/plain": [
       "<Figure size 432x288 with 1 Axes>"
      ]
     },
     "metadata": {
      "needs_background": "light"
     },
     "output_type": "display_data"
    }
   ],
   "source": [
    "sb.boxplot(data=clean_fordGo_df, x='member_birth_year');\n",
    "plt.title('The distribution of member birth year')\n",
    "plt.xlim(1955, 2005)\n",
    "plt.title('The distribution of birth year');"
   ]
  },
  {
   "cell_type": "markdown",
   "metadata": {
    "slideshow": {
     "slide_type": "skip"
    }
   },
   "source": [
    "* Most of the bike share users are born between 1980 and 1993"
   ]
  },
  {
   "cell_type": "code",
   "execution_count": 36,
   "metadata": {
    "slideshow": {
     "slide_type": "skip"
    }
   },
   "outputs": [
    {
     "data": {
      "image/png": "[encoded data removed]",
      "text/plain": [
       "<Figure size 432x288 with 1 Axes>"
      ]
     },
     "metadata": {
      "needs_background": "light"
     },
     "output_type": "display_data"
    }
   ],
   "source": [
    "sb.countplot(data=clean_fordGo_df, x='age_range', color=base_color);\n",
    "plt.title(\"Age range of FordGo bike share users\");"
   ]
  },
  {
   "cell_type": "markdown",
   "metadata": {
    "slideshow": {
     "slide_type": "skip"
    }
   },
   "source": [
    "* The bike share is more common among people within 40 to 20 years but most common among people in their 30s\n"
   ]
  },
  {
   "cell_type": "markdown",
   "metadata": {
    "slideshow": {
     "slide_type": "slide"
    }
   },
   "source": [
    "### Discuss the distribution(s) of your variable(s) of interest. Were there any unusual points? Did you need to perform any transformations?\n",
    "* The trip duration_sec column is right skewed and has outliers, using logarith scale, I was able to get a better visualization for the histogram plotted with the column \n",
    "* The member_birth_year variable had outliers that made the percentile difficult to view, I used plt.xlim to zoom in on the plot in the boxplot \n",
    "* Because of the outliers in the member_birth_year, while creating the age_range using pd.cut() I grouped the outliers under 80 years. \n"
   ]
  },
  {
   "cell_type": "markdown",
   "metadata": {
    "slideshow": {
     "slide_type": "slide"
    }
   },
   "source": [
    "## Bivariate Exploration"
   ]
  },
  {
   "cell_type": "markdown",
   "metadata": {
    "slideshow": {
     "slide_type": "subslide"
    }
   },
   "source": [
    "#### Questions\n",
    "* How long does the average trip take?\n",
    "* Does the above depend on user_type?\n",
    "* Does the above depend on user gender?\n",
    "* What is the bike share rate between different age range"
   ]
  },
  {
   "cell_type": "markdown",
   "metadata": {
    "slideshow": {
     "slide_type": "skip"
    }
   },
   "source": [
    "> * What is the bike share rate between different age range and gender"
   ]
  },
  {
   "cell_type": "code",
   "execution_count": 37,
   "metadata": {
    "scrolled": true,
    "slideshow": {
     "slide_type": "skip"
    }
   },
   "outputs": [
    {
     "data": {
      "image/png": "[encoded data removed]",
      "text/plain": [
       "<Figure size 432x288 with 1 Axes>"
      ]
     },
     "metadata": {
      "needs_background": "light"
     },
     "output_type": "display_data"
    }
   ],
   "source": [
    "sb.countplot(data=clean_fordGo_df, x = 'age_range', hue='member_gender');\n",
    "plt.title('bike share rate between different age range and gender')\n",
    "plt.show()"
   ]
  },
  {
   "cell_type": "markdown",
   "metadata": {
    "slideshow": {
     "slide_type": "skip"
    }
   },
   "source": [
    "* This graph indicates that the highest number of bike users among different age_range are male, then followed by female, then others "
   ]
  },
  {
   "cell_type": "markdown",
   "metadata": {
    "slideshow": {
     "slide_type": "skip"
    }
   },
   "source": [
    "### Question\n",
    "* What is the bike share rate between different gender and user_type"
   ]
  },
  {
   "cell_type": "code",
   "execution_count": 38,
   "metadata": {
    "slideshow": {
     "slide_type": "skip"
    }
   },
   "outputs": [
    {
     "data": {
      "image/png": "[encoded data removed]",
      "text/plain": [
       "<Figure size 432x288 with 1 Axes>"
      ]
     },
     "metadata": {
      "needs_background": "light"
     },
     "output_type": "display_data"
    }
   ],
   "source": [
    "sb.countplot(data=clean_fordGo_df, x = 'member_gender', hue='user_type');\n",
    "plt.title('bike share rate between different gender and user_type')\n",
    "plt.show()"
   ]
  },
  {
   "cell_type": "markdown",
   "metadata": {
    "slideshow": {
     "slide_type": "skip"
    }
   },
   "source": [
    "* Among different genders, subscribers are more than customers"
   ]
  },
  {
   "cell_type": "code",
   "execution_count": 39,
   "metadata": {
    "slideshow": {
     "slide_type": "skip"
    }
   },
   "outputs": [
    {
     "data": {
      "text/plain": [
       "CategoricalDtype(categories=['Male', 'Female', 'Other'], ordered=True)"
      ]
     },
     "execution_count": 39,
     "metadata": {},
     "output_type": "execute_result"
    }
   ],
   "source": [
    "clean_fordGo_df.member_gender.dtypes"
   ]
  },
  {
   "cell_type": "markdown",
   "metadata": {
    "slideshow": {
     "slide_type": "slide"
    }
   },
   "source": [
    "### Question\n",
    "> What is the mean duration of bike share among different genders"
   ]
  },
  {
   "cell_type": "code",
   "execution_count": 40,
   "metadata": {
    "scrolled": true,
    "slideshow": {
     "slide_type": "subslide"
    }
   },
   "outputs": [
    {
     "data": {
      "image/png": "[encoded data removed]",
      "text/plain": [
       "<Figure size 576x360 with 1 Axes>"
      ]
     },
     "metadata": {
      "needs_background": "light"
     },
     "output_type": "display_data"
    }
   ],
   "source": [
    "plt.figure(figsize = [8, 5])\n",
    "base_color = sb.color_palette()[1]\n",
    "sb.boxplot(data=clean_fordGo_df, x='member_gender', y='duration_sec', color=base_color);\n",
    "plt.ylim([-10, 2000])\n",
    "plt.xlabel(\"Gender\")\n",
    "plt.title('mean duration of bike share among different genders')\n",
    "plt.ylabel('Duration (sec)');"
   ]
  },
  {
   "cell_type": "markdown",
   "metadata": {
    "slideshow": {
     "slide_type": "subslide"
    }
   },
   "source": [
    "* The male has lesser mean duration in sec"
   ]
  },
  {
   "cell_type": "markdown",
   "metadata": {
    "slideshow": {
     "slide_type": "slide"
    }
   },
   "source": [
    "### Question\n",
    "> What is the mean duration of bike share among different user_types"
   ]
  },
  {
   "cell_type": "code",
   "execution_count": 41,
   "metadata": {
    "slideshow": {
     "slide_type": "subslide"
    }
   },
   "outputs": [
    {
     "data": {
      "image/png": "[encoded data removed]",
      "text/plain": [
       "<Figure size 360x288 with 1 Axes>"
      ]
     },
     "metadata": {
      "needs_background": "light"
     },
     "output_type": "display_data"
    }
   ],
   "source": [
    "plt.figure(figsize = [5, 4])\n",
    "base_color = sb.color_palette()[1]\n",
    "sb.boxplot(data=clean_fordGo_df,  x='user_type', y='duration_sec', color=base_color);\n",
    "plt.ylim([-10, 3000])\n",
    "plt.xlabel(\"User Type\")\n",
    "plt.title('Mean duration of bike share among different user_types')\n",
    "plt.ylabel('Duration (sec)');"
   ]
  },
  {
   "cell_type": "markdown",
   "metadata": {
    "slideshow": {
     "slide_type": "subslide"
    }
   },
   "source": [
    "* Customers have a higher mean duration (sec) than subscribers"
   ]
  },
  {
   "cell_type": "markdown",
   "metadata": {
    "slideshow": {
     "slide_type": "slide"
    }
   },
   "source": [
    "### Question\n",
    "> What is the mean duration of bike share among different age_range"
   ]
  },
  {
   "cell_type": "code",
   "execution_count": 42,
   "metadata": {
    "slideshow": {
     "slide_type": "subslide"
    }
   },
   "outputs": [
    {
     "data": {
      "image/png": "[encoded data removed]",
      "text/plain": [
       "<Figure size 576x360 with 1 Axes>"
      ]
     },
     "metadata": {
      "needs_background": "light"
     },
     "output_type": "display_data"
    }
   ],
   "source": [
    "plt.figure(figsize = [8, 5])\n",
    "base_color = sb.color_palette()[0]\n",
    "sb.boxplot(data=clean_fordGo_df,  x='age_range', y='duration_sec', color=base_color);\n",
    "plt.ylim([-10, 2000])\n",
    "plt.xlabel(\"Age Range\")\n",
    "plt.ylabel('Duration (sec)')\n",
    "plt.title('Mean duration of bike share among different age_range');"
   ]
  },
  {
   "cell_type": "markdown",
   "metadata": {
    "slideshow": {
     "slide_type": "subslide"
    }
   },
   "source": [
    "* People in their 60s ride longer than others "
   ]
  },
  {
   "cell_type": "markdown",
   "metadata": {
    "slideshow": {
     "slide_type": "skip"
    }
   },
   "source": [
    "### Question\n",
    "> Among which of the age group is bike share most common"
   ]
  },
  {
   "cell_type": "code",
   "execution_count": 43,
   "metadata": {
    "scrolled": true,
    "slideshow": {
     "slide_type": "skip"
    }
   },
   "outputs": [
    {
     "data": {
      "image/png": "[encoded data removed]",
      "text/plain": [
       "<Figure size 1152x288 with 3 Axes>"
      ]
     },
     "metadata": {
      "needs_background": "light"
     },
     "output_type": "display_data"
    }
   ],
   "source": [
    "plt.figure(figsize=(16,4))\n",
    "plt.subplot(1,2,1)\n",
    "plt.scatter((2019 - clean_fordGo_df.member_birth_year), \n",
    "            clean_fordGo_df.duration_sec, marker='.',\n",
    "           alpha = 0.2)\n",
    "plt.xlim(15, 90)\n",
    "plt.ylim(0, 30000)\n",
    "plt.xlabel('Age (years)')\n",
    "plt.ylabel('Duration (sec)')\n",
    "\n",
    "plt.subplot(1,2,2)\n",
    "plt.hist2d((2019 - clean_fordGo_df.member_birth_year), \n",
    "            clean_fordGo_df.duration_sec, alpha = 0.2,  cmap = 'inferno_r')\n",
    "plt.colorbar()\n",
    "plt.xlim(15, 90)\n",
    "plt.ylim(0, 30000)\n",
    "plt.xlabel('Age (years)')\n",
    "plt.ylabel('Duration (sec)')\n",
    "plt.show()"
   ]
  },
  {
   "cell_type": "markdown",
   "metadata": {
    "slideshow": {
     "slide_type": "skip"
    }
   },
   "source": [
    "* We have record of more people in their 20 to 45 in the dataset \n",
    "* Long ride is more common among the younger users than the elderly ones \n",
    "* We can also see that most frequent bike users are around age 20 to 45"
   ]
  },
  {
   "cell_type": "markdown",
   "metadata": {
    "slideshow": {
     "slide_type": "slide"
    }
   },
   "source": [
    "### Talk about some of the relationships you observed in this part of the investigation. How did the feature(s) of interest vary with other features in the dataset?\n",
    "\n",
    "* This graph indicates that the highest number of bike users among different age_range are male, then followed by female, then others but the male gender has lesser mean duration\n",
    "* Among different genders, subscribers are more than customers\n",
    "* Customers drive longer than subscribers on average\n",
    "* We have record of more people in their 20 to 45 in the dataset\n",
    "* Long ride is more common among the younger users than the elderly ones\n",
    "* We can also see that most frequent bike users are around age 20 to 45\n",
    "\n",
    "### Did you observe any interesting relationships between the other features (not the main feature(s) of interest)?\n",
    "\n",
    "* Plotting a boxplot of age and duration shows that people in their 60s ride longer mean duration although they are not much in the dataset\n",
    "* I expected male to have a longer ride time because they have more population of users but the female take more longer trips"
   ]
  },
  {
   "cell_type": "markdown",
   "metadata": {
    "slideshow": {
     "slide_type": "slide"
    }
   },
   "source": [
    "## Multivariate Exploration"
   ]
  },
  {
   "cell_type": "markdown",
   "metadata": {
    "slideshow": {
     "slide_type": "slide"
    }
   },
   "source": [
    "### Question\n",
    "> What is the relationship between user_type, duration of ride and birth_year"
   ]
  },
  {
   "cell_type": "code",
   "execution_count": 44,
   "metadata": {
    "scrolled": true,
    "slideshow": {
     "slide_type": "subslide"
    }
   },
   "outputs": [
    {
     "data": {
      "image/png": "[encoded data removed]",
      "text/plain": [
       "<Figure size 1080x432 with 1 Axes>"
      ]
     },
     "metadata": {
      "needs_background": "light"
     },
     "output_type": "display_data"
    }
   ],
   "source": [
    "plt.figure(figsize=(15, 6))\n",
    "sb.boxplot(data=clean_fordGo_df, x = clean_fordGo_df.age_range, y = 'duration_sec', hue = 'user_type')\n",
    "plt.ylim([-10, 2000])\n",
    "plt.xlabel('Member birth year')\n",
    "plt.ylabel('Duration in seconds')\n",
    "plt.title('How long people of different age group use fordGo among subscribers and customers ')\n",
    "plt.legend(bbox_to_anchor=(1.02, 1), loc='upper left', borderaxespad=0, title='User Type')\n",
    "plt.show()"
   ]
  },
  {
   "cell_type": "code",
   "execution_count": 45,
   "metadata": {
    "slideshow": {
     "slide_type": "skip"
    }
   },
   "outputs": [
    {
     "data": {
      "text/html": [
       "<div>\n",
       "<style scoped>\n",
       "    .dataframe tbody tr th:only-of-type {\n",
       "        vertical-align: middle;\n",
       "    }\n",
       "\n",
       "    .dataframe tbody tr th {\n",
       "        vertical-align: top;\n",
       "    }\n",
       "\n",
       "    .dataframe thead th {\n",
       "        text-align: right;\n",
       "    }\n",
       "</style>\n",
       "<table border=\"1\" class=\"dataframe\">\n",
       "  <thead>\n",
       "    <tr style=\"text-align: right;\">\n",
       "      <th></th>\n",
       "      <th></th>\n",
       "      <th>count</th>\n",
       "      <th>mean</th>\n",
       "      <th>std</th>\n",
       "      <th>min</th>\n",
       "      <th>25%</th>\n",
       "      <th>50%</th>\n",
       "      <th>75%</th>\n",
       "      <th>max</th>\n",
       "    </tr>\n",
       "    <tr>\n",
       "      <th>age_range</th>\n",
       "      <th>user_type</th>\n",
       "      <th></th>\n",
       "      <th></th>\n",
       "      <th></th>\n",
       "      <th></th>\n",
       "      <th></th>\n",
       "      <th></th>\n",
       "      <th></th>\n",
       "      <th></th>\n",
       "    </tr>\n",
       "  </thead>\n",
       "  <tbody>\n",
       "    <tr>\n",
       "      <th rowspan=\"2\" valign=\"top\">80</th>\n",
       "      <th>Customer</th>\n",
       "      <td>13.0</td>\n",
       "      <td>991.307692</td>\n",
       "      <td>581.679234</td>\n",
       "      <td>378.0</td>\n",
       "      <td>568.00</td>\n",
       "      <td>829.0</td>\n",
       "      <td>1336.00</td>\n",
       "      <td>2129.0</td>\n",
       "    </tr>\n",
       "    <tr>\n",
       "      <th>Subscriber</th>\n",
       "      <td>190.0</td>\n",
       "      <td>410.431579</td>\n",
       "      <td>371.824193</td>\n",
       "      <td>61.0</td>\n",
       "      <td>141.75</td>\n",
       "      <td>307.5</td>\n",
       "      <td>524.50</td>\n",
       "      <td>1893.0</td>\n",
       "    </tr>\n",
       "    <tr>\n",
       "      <th rowspan=\"2\" valign=\"top\">70</th>\n",
       "      <th>Customer</th>\n",
       "      <td>17.0</td>\n",
       "      <td>1231.647059</td>\n",
       "      <td>643.534473</td>\n",
       "      <td>63.0</td>\n",
       "      <td>1001.00</td>\n",
       "      <td>1213.0</td>\n",
       "      <td>1496.00</td>\n",
       "      <td>3054.0</td>\n",
       "    </tr>\n",
       "    <tr>\n",
       "      <th>Subscriber</th>\n",
       "      <td>632.0</td>\n",
       "      <td>682.841772</td>\n",
       "      <td>1095.252804</td>\n",
       "      <td>81.0</td>\n",
       "      <td>278.50</td>\n",
       "      <td>466.0</td>\n",
       "      <td>780.50</td>\n",
       "      <td>18658.0</td>\n",
       "    </tr>\n",
       "    <tr>\n",
       "      <th rowspan=\"2\" valign=\"top\">60</th>\n",
       "      <th>Customer</th>\n",
       "      <td>280.0</td>\n",
       "      <td>1273.753571</td>\n",
       "      <td>1606.371630</td>\n",
       "      <td>146.0</td>\n",
       "      <td>480.25</td>\n",
       "      <td>901.0</td>\n",
       "      <td>1338.00</td>\n",
       "      <td>11613.0</td>\n",
       "    </tr>\n",
       "    <tr>\n",
       "      <th>Subscriber</th>\n",
       "      <td>3828.0</td>\n",
       "      <td>718.803814</td>\n",
       "      <td>607.288271</td>\n",
       "      <td>66.0</td>\n",
       "      <td>349.00</td>\n",
       "      <td>584.0</td>\n",
       "      <td>897.00</td>\n",
       "      <td>16602.0</td>\n",
       "    </tr>\n",
       "    <tr>\n",
       "      <th rowspan=\"2\" valign=\"top\">50</th>\n",
       "      <th>Customer</th>\n",
       "      <td>1199.0</td>\n",
       "      <td>1299.478732</td>\n",
       "      <td>1633.263799</td>\n",
       "      <td>64.0</td>\n",
       "      <td>520.50</td>\n",
       "      <td>865.0</td>\n",
       "      <td>1415.00</td>\n",
       "      <td>20093.0</td>\n",
       "    </tr>\n",
       "    <tr>\n",
       "      <th>Subscriber</th>\n",
       "      <td>11698.0</td>\n",
       "      <td>675.998290</td>\n",
       "      <td>1495.514593</td>\n",
       "      <td>63.0</td>\n",
       "      <td>317.00</td>\n",
       "      <td>493.0</td>\n",
       "      <td>765.75</td>\n",
       "      <td>83195.0</td>\n",
       "    </tr>\n",
       "    <tr>\n",
       "      <th rowspan=\"2\" valign=\"top\">40</th>\n",
       "      <th>Customer</th>\n",
       "      <td>2407.0</td>\n",
       "      <td>1304.908184</td>\n",
       "      <td>3398.198900</td>\n",
       "      <td>63.0</td>\n",
       "      <td>481.00</td>\n",
       "      <td>770.0</td>\n",
       "      <td>1162.00</td>\n",
       "      <td>65409.0</td>\n",
       "    </tr>\n",
       "    <tr>\n",
       "      <th>Subscriber</th>\n",
       "      <td>25380.0</td>\n",
       "      <td>650.320173</td>\n",
       "      <td>1359.454688</td>\n",
       "      <td>61.0</td>\n",
       "      <td>314.00</td>\n",
       "      <td>492.0</td>\n",
       "      <td>753.00</td>\n",
       "      <td>74097.0</td>\n",
       "    </tr>\n",
       "    <tr>\n",
       "      <th rowspan=\"2\" valign=\"top\">30</th>\n",
       "      <th>Customer</th>\n",
       "      <td>7467.0</td>\n",
       "      <td>1250.983394</td>\n",
       "      <td>3424.495449</td>\n",
       "      <td>62.0</td>\n",
       "      <td>495.00</td>\n",
       "      <td>756.0</td>\n",
       "      <td>1134.50</td>\n",
       "      <td>83519.0</td>\n",
       "    </tr>\n",
       "    <tr>\n",
       "      <th>Subscriber</th>\n",
       "      <td>65181.0</td>\n",
       "      <td>645.240269</td>\n",
       "      <td>1435.114927</td>\n",
       "      <td>61.0</td>\n",
       "      <td>317.00</td>\n",
       "      <td>496.0</td>\n",
       "      <td>754.00</td>\n",
       "      <td>84548.0</td>\n",
       "    </tr>\n",
       "    <tr>\n",
       "      <th rowspan=\"2\" valign=\"top\">20s</th>\n",
       "      <th>Customer</th>\n",
       "      <td>5183.0</td>\n",
       "      <td>1404.933629</td>\n",
       "      <td>3731.124782</td>\n",
       "      <td>66.0</td>\n",
       "      <td>503.00</td>\n",
       "      <td>815.0</td>\n",
       "      <td>1365.00</td>\n",
       "      <td>82512.0</td>\n",
       "    </tr>\n",
       "    <tr>\n",
       "      <th>Subscriber</th>\n",
       "      <td>51477.0</td>\n",
       "      <td>616.253472</td>\n",
       "      <td>1115.167563</td>\n",
       "      <td>61.0</td>\n",
       "      <td>302.00</td>\n",
       "      <td>477.0</td>\n",
       "      <td>731.00</td>\n",
       "      <td>67512.0</td>\n",
       "    </tr>\n",
       "  </tbody>\n",
       "</table>\n",
       "</div>"
      ],
      "text/plain": [
       "                        count         mean          std    min      25%  \\\n",
       "age_range user_type                                                       \n",
       "80        Customer       13.0   991.307692   581.679234  378.0   568.00   \n",
       "          Subscriber    190.0   410.431579   371.824193   61.0   141.75   \n",
       "70        Customer       17.0  1231.647059   643.534473   63.0  1001.00   \n",
       "          Subscriber    632.0   682.841772  1095.252804   81.0   278.50   \n",
       "60        Customer      280.0  1273.753571  1606.371630  146.0   480.25   \n",
       "          Subscriber   3828.0   718.803814   607.288271   66.0   349.00   \n",
       "50        Customer     1199.0  1299.478732  1633.263799   64.0   520.50   \n",
       "          Subscriber  11698.0   675.998290  1495.514593   63.0   317.00   \n",
       "40        Customer     2407.0  1304.908184  3398.198900   63.0   481.00   \n",
       "          Subscriber  25380.0   650.320173  1359.454688   61.0   314.00   \n",
       "30        Customer     7467.0  1250.983394  3424.495449   62.0   495.00   \n",
       "          Subscriber  65181.0   645.240269  1435.114927   61.0   317.00   \n",
       "20s       Customer     5183.0  1404.933629  3731.124782   66.0   503.00   \n",
       "          Subscriber  51477.0   616.253472  1115.167563   61.0   302.00   \n",
       "\n",
       "                         50%      75%      max  \n",
       "age_range user_type                             \n",
       "80        Customer     829.0  1336.00   2129.0  \n",
       "          Subscriber   307.5   524.50   1893.0  \n",
       "70        Customer    1213.0  1496.00   3054.0  \n",
       "          Subscriber   466.0   780.50  18658.0  \n",
       "60        Customer     901.0  1338.00  11613.0  \n",
       "          Subscriber   584.0   897.00  16602.0  \n",
       "50        Customer     865.0  1415.00  20093.0  \n",
       "          Subscriber   493.0   765.75  83195.0  \n",
       "40        Customer     770.0  1162.00  65409.0  \n",
       "          Subscriber   492.0   753.00  74097.0  \n",
       "30        Customer     756.0  1134.50  83519.0  \n",
       "          Subscriber   496.0   754.00  84548.0  \n",
       "20s       Customer     815.0  1365.00  82512.0  \n",
       "          Subscriber   477.0   731.00  67512.0  "
      ]
     },
     "execution_count": 45,
     "metadata": {},
     "output_type": "execute_result"
    }
   ],
   "source": [
    "clean_fordGo_df.groupby(['age_range','user_type']).describe()['duration_sec']"
   ]
  },
  {
   "cell_type": "markdown",
   "metadata": {
    "slideshow": {
     "slide_type": "subslide"
    }
   },
   "source": [
    "* Although the subscribers are more than the customers but the have less mean duration than customers\n",
    "* The age_range 70 of the user type has the highest mean duration with about 1231\n",
    "* Another reason for this occurence might be because, compared to othere age range, age range 60 to 80 are not well represented in the dataset. There is not enough data on the age group compared to other age groups, this might distort the fact. There is a need for further investigation on this "
   ]
  },
  {
   "cell_type": "markdown",
   "metadata": {
    "slideshow": {
     "slide_type": "skip"
    }
   },
   "source": [
    "### Question\n",
    "> What is the relationship between user_type, age_range and bike_share_for_all_trip"
   ]
  },
  {
   "cell_type": "code",
   "execution_count": 46,
   "metadata": {
    "slideshow": {
     "slide_type": "skip"
    }
   },
   "outputs": [
    {
     "data": {
      "text/plain": [
       "[]"
      ]
     },
     "execution_count": 46,
     "metadata": {},
     "output_type": "execute_result"
    },
    {
     "data": {
      "image/png": "[encoded data removed]",
      "text/plain": [
       "<Figure size 809.125x360 with 2 Axes>"
      ]
     },
     "metadata": {
      "needs_background": "light"
     },
     "output_type": "display_data"
    }
   ],
   "source": [
    "sb.catplot(data=clean_fordGo_df, \n",
    "           x = 'age_range', \n",
    "           col = 'bike_share_for_all_trip', \n",
    "           hue = 'user_type', \n",
    "           alpha=0.4, kind=\"count\")\n",
    "plt.plot()"
   ]
  },
  {
   "cell_type": "markdown",
   "metadata": {
    "slideshow": {
     "slide_type": "skip"
    }
   },
   "source": [
    "> There are lesser bike share for all trips"
   ]
  },
  {
   "cell_type": "markdown",
   "metadata": {
    "slideshow": {
     "slide_type": "skip"
    }
   },
   "source": [
    "### Question\n",
    "> What is the relationship between gender, agr_range and duration"
   ]
  },
  {
   "cell_type": "code",
   "execution_count": 47,
   "metadata": {
    "scrolled": true,
    "slideshow": {
     "slide_type": "skip"
    }
   },
   "outputs": [
    {
     "name": "stderr",
     "output_type": "stream",
     "text": [
      "C:\\ProgramData\\Anaconda3\\lib\\site-packages\\seaborn\\axisgrid.py:316: UserWarning: The `size` parameter has been renamed to `height`; please update your code.\n",
      "  warnings.warn(msg, UserWarning)\n"
     ]
    },
    {
     "data": {
      "image/png": "[encoded data removed]",
      "text/plain": [
       "<Figure size 1080x360 with 3 Axes>"
      ]
     },
     "metadata": {
      "needs_background": "light"
     },
     "output_type": "display_data"
    }
   ],
   "source": [
    "clean_fordGo_df['age'] = (2019 - clean_fordGo_df['member_birth_year'])\n",
    "g = sb.FacetGrid(data = clean_fordGo_df, \n",
    "                 col = 'member_gender', \n",
    "                 size = 5,\n",
    "                 xlim = [10, 80], ylim = [-500, 9000])\n",
    "g.map(plt.scatter, 'age', 'duration_sec', alpha=0.25)\n",
    "g.set_xlabels('Age (year)')\n",
    "g.set_ylabels('Duration (sec)')\n",
    "\n",
    "plt.show()"
   ]
  },
  {
   "cell_type": "markdown",
   "metadata": {
    "slideshow": {
     "slide_type": "notes"
    }
   },
   "source": [
    "* From age 60, jump in age is very obvious in other gender \n",
    "* The Male and Female follow the similar trend in trip duration"
   ]
  },
  {
   "cell_type": "markdown",
   "metadata": {
    "slideshow": {
     "slide_type": "skip"
    }
   },
   "source": [
    "### Question\n",
    "> What is the relationship between user_type, age_range and duration"
   ]
  },
  {
   "cell_type": "code",
   "execution_count": 48,
   "metadata": {
    "scrolled": true,
    "slideshow": {
     "slide_type": "skip"
    }
   },
   "outputs": [
    {
     "data": {
      "image/png": "[encoded data removed]",
      "text/plain": [
       "<Figure size 720x360 with 2 Axes>"
      ]
     },
     "metadata": {
      "needs_background": "light"
     },
     "output_type": "display_data"
    }
   ],
   "source": [
    "clean_fordGo_df['age'] = (2019 - clean_fordGo_df['member_birth_year'])\n",
    "g = sb.FacetGrid(data = clean_fordGo_df, col = 'user_type', size = 5,\n",
    "                 xlim = [10, 80], ylim = [-500, 9000])\n",
    "g.map(plt.scatter, 'age', 'duration_sec', alpha=0.2)\n",
    "g.set_xlabels('Age (year)')\n",
    "g.set_ylabels('Duration (sec)')\n",
    "\n",
    "plt.show()"
   ]
  },
  {
   "cell_type": "markdown",
   "metadata": {
    "slideshow": {
     "slide_type": "skip"
    }
   },
   "source": [
    "* They both share similar trend "
   ]
  },
  {
   "cell_type": "markdown",
   "metadata": {
    "slideshow": {
     "slide_type": "slide"
    }
   },
   "source": [
    "### Talk about some of the relationships you observed in this part of the investigation. Were there features that strengthened each other in terms of looking at your feature(s) of interest?\n",
    "* Short duration rides looks more prevalent among subscribers\n",
    "* The subscribers are more than the customers but ride less time than customers\n",
    "\n",
    "### Were there any interesting or surprising interactions between features?\n"
   ]
  },
  {
   "cell_type": "markdown",
   "metadata": {
    "slideshow": {
     "slide_type": "slide"
    }
   },
   "source": [
    "## Conclusions\n",
    "\n",
    "* Customer user type trips take a longer duration compared to subscriber user type.\n",
    "* Most trips takes an average of 500 seconds \n",
    "* More than 90% of the trips are not shared for all trips. Therefore, they are majorly used as last mile means of transportation\n",
    "* There are more subscribers and male in the dataset than customers, female and others \n",
    "* Although there are less people in the age range of 60 but they tend to have more mean trip duration than others\n",
    "* The male rider have lesser mean duration compared with other riders"
   ]
  },
  {
   "cell_type": "markdown",
   "metadata": {
    "slideshow": {
     "slide_type": "skip"
    }
   },
   "source": [
    "> At the end of your report, make sure that you export the notebook as an\n",
    "html file from the `File > Download as... > HTML or PDF` menu. Make sure you keep\n",
    "track of where the exported file goes, so you can put it in the same folder\n",
    "as this notebook for project submission. Also, make sure you remove all of\n",
    "the quote-formatted guide notes like this one before you finish your report!\n",
    "\n"
   ]
  },
  {
   "cell_type": "code",
   "execution_count": null,
   "metadata": {
    "slideshow": {
     "slide_type": "skip"
    }
   },
   "outputs": [],
   "source": [
    "!jupyter nbconvert Ford_GoBike_System_Part_II.ipynb --to slides --post serve --no-input --no-prompt"
   ]
  },
  {
   "cell_type": "code",
   "execution_count": null,
   "metadata": {
    "slideshow": {
     "slide_type": "skip"
    }
   },
   "outputs": [],
   "source": []
  }
 ],
 "metadata": {
  "celltoolbar": "Slideshow",
  "kernelspec": {
   "display_name": "Python 3",
   "language": "python",
   "name": "python3"
  },
  "language_info": {
   "codemirror_mode": {
    "name": "ipython",
    "version": 3
   },
   "file_extension": ".py",
   "mimetype": "text/x-python",
   "name": "python",
   "nbconvert_exporter": "python",
   "pygments_lexer": "ipython3",
   "version": "3.8.8"
  }
 },
 "nbformat": 4,
 "nbformat_minor": 2
}
